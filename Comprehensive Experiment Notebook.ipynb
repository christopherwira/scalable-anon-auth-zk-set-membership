{
 "cells": [
  {
   "cell_type": "markdown",
   "id": "70bc46c3-002b-4b2d-82ee-08aeec0854d8",
   "metadata": {},
   "source": [
    "# Setting up the constant\n",
    "We design the private key for each User to be a 256-bit unsigned integer.\n",
    "\n",
    "For starters, we design our Merkle-Tree Depth to be 9 level. This will result on having 512 users in total for our system."
   ]
  },
  {
   "cell_type": "code",
   "execution_count": null,
   "id": "a93fc0ea",
   "metadata": {
    "editable": true,
    "slideshow": {
     "slide_type": ""
    },
    "tags": []
   },
   "outputs": [],
   "source": [
    "import hashlib\n",
    "import random\n",
    "import os\n",
    "import json\n",
    "import pandas as pd"
   ]
  },
  {
   "cell_type": "code",
   "execution_count": null,
   "id": "45878efe",
   "metadata": {},
   "outputs": [],
   "source": [
    "PRIVATE_KEY_BIT_LENGTH = 256\n",
    "DEPTH = 3\n",
    "random.seed(13)"
   ]
  },
  {
   "cell_type": "markdown",
   "id": "7f39bbe5",
   "metadata": {},
   "source": [
    "# Setting up the Hardhat Node\n",
    "We want to run the Hardhat Node for our experiment. Using the config file in `hardhat` directory, we choose to have 512 pre-funded accounts.\n",
    "\n",
    "We will connect to the node and store all of these accounts using the Web3.py library."
   ]
  },
  {
   "cell_type": "code",
   "execution_count": null,
   "id": "7b699779",
   "metadata": {},
   "outputs": [],
   "source": [
    "from web3 import Web3"
   ]
  },
  {
   "cell_type": "code",
   "execution_count": null,
   "id": "9eba3f0c-3c23-47c7-ba31-cc88d6c147dc",
   "metadata": {},
   "outputs": [],
   "source": [
    "DEVELOPMENT_HTTP_PROVIDER_URL = 'http://127.0.0.1:8545'"
   ]
  },
  {
   "cell_type": "code",
   "execution_count": null,
   "id": "263df720",
   "metadata": {},
   "outputs": [],
   "source": [
    "w3 = Web3(Web3.HTTPProvider(DEVELOPMENT_HTTP_PROVIDER_URL))"
   ]
  },
  {
   "cell_type": "code",
   "execution_count": null,
   "id": "c07ae374",
   "metadata": {},
   "outputs": [],
   "source": [
    "#Make sure we can get the block information using the Web3 Provider\n",
    "w3.eth.get_block('latest')"
   ]
  },
  {
   "cell_type": "code",
   "execution_count": null,
   "id": "8cdbf907",
   "metadata": {},
   "outputs": [],
   "source": [
    "#Fetching the pre-funded accounts (make sure we have 512 accounts for this experiment)\n",
    "agent_accounts = w3.eth.accounts\n",
    "len(agent_accounts)"
   ]
  },
  {
   "cell_type": "code",
   "execution_count": null,
   "id": "52b43e28",
   "metadata": {},
   "outputs": [],
   "source": [
    "agent_accounts[0]"
   ]
  },
  {
   "cell_type": "markdown",
   "id": "19dc8e86",
   "metadata": {},
   "source": [
    "# Generating Private Key\n",
    "Each of the User generate their Private Key by choosing a random integer between \\[0,2**256\\] and convert it into a bytes array."
   ]
  },
  {
   "cell_type": "code",
   "execution_count": null,
   "id": "2f39f047",
   "metadata": {},
   "outputs": [],
   "source": [
    "def generate_random_private_key_set():\n",
    "    leaf_amount = 2**DEPTH\n",
    "    return [random.getrandbits(PRIVATE_KEY_BIT_LENGTH).to_bytes(int(PRIVATE_KEY_BIT_LENGTH/8),\"big\") for x in range(leaf_amount)]"
   ]
  },
  {
   "cell_type": "code",
   "execution_count": null,
   "id": "f0a96120",
   "metadata": {},
   "outputs": [],
   "source": [
    "private_key_set = generate_random_private_key_set()\n",
    "private_key_set"
   ]
  },
  {
   "cell_type": "markdown",
   "id": "5127596b",
   "metadata": {},
   "source": [
    "# Deriving Public Key\n",
    "We derive the Public Key by digesting their respective Private Key using SHA256.\n",
    "\n",
    "Due to the Private Key Bit Length (256-bit) is shorter than the SHA256 block size (512-bit), we will pad the Private Key with 256-bit of zero value on its right side to create a total of 512-bit input.\n",
    "\n",
    "We use the following function to calculate the public key:\n",
    "\n",
    "`public_key = sha256(private_key+zero_padding)`,\n",
    "\n",
    "where each value has the following length:\n",
    "- `private_key`: 256-bit (32-byte)\n",
    "- `zero_padding`: 256-bit (32-byte)\n",
    "- `public_key`: 256-bit (32-byte)\n",
    "\n",
    "The Public Key Set represents the registered Public Key in the Authentication System."
   ]
  },
  {
   "cell_type": "code",
   "execution_count": null,
   "id": "2ce985a4",
   "metadata": {},
   "outputs": [],
   "source": [
    "def calculate_public_key(private_key):\n",
    "    return hashlib.sha256(private_key+int(0).to_bytes(32,\"big\")).digest()"
   ]
  },
  {
   "cell_type": "code",
   "execution_count": null,
   "id": "a60634c7",
   "metadata": {},
   "outputs": [],
   "source": [
    "public_key_set = [calculate_public_key(x) for x in private_key_set]\n",
    "public_key_set"
   ]
  },
  {
   "cell_type": "markdown",
   "id": "26a8c099",
   "metadata": {},
   "source": [
    "We wrap the previous functions into the following function to generate experiment data set."
   ]
  },
  {
   "cell_type": "code",
   "execution_count": null,
   "id": "c1fc0990",
   "metadata": {},
   "outputs": [],
   "source": [
    "def generate_public_private_key_set():\n",
    "    private_key_set = generate_random_private_key_set()\n",
    "    public_key_set = [calculate_public_key(pk) for pk in private_key_set]\n",
    "    return (private_key_set, public_key_set)"
   ]
  },
  {
   "cell_type": "code",
   "execution_count": null,
   "id": "be2cb591",
   "metadata": {},
   "outputs": [],
   "source": [
    "(private_key_set, public_key_set) = generate_public_private_key_set()\n",
    "(private_key_set, public_key_set)"
   ]
  },
  {
   "cell_type": "markdown",
   "id": "ff7e75ea",
   "metadata": {},
   "source": [
    "# Accumulating the Public Key\n",
    "After calculating the respective Public-Private Key for each User, we accumulate the Public Key Set using an accumulator. In this case, our Accumulator Scheme would be a Merkle-Tree Accumulator."
   ]
  },
  {
   "cell_type": "markdown",
   "id": "eb338e08",
   "metadata": {},
   "source": [
    "For simplicity, we implement the most basic Merkle-Tree implementation. We write the algorithm to calculate the Merkle Tree and its proof."
   ]
  },
  {
   "cell_type": "code",
   "execution_count": null,
   "id": "3356c323",
   "metadata": {},
   "outputs": [],
   "source": [
    "def calculate_merkle_tree(bytesarray_set):\n",
    "    merkle_tree = {}\n",
    "    merkle_tree[0] = bytesarray_set\n",
    "    for current_level in range(1,DEPTH+1):\n",
    "        node_amount = 2**(DEPTH-current_level)\n",
    "        merkle_tree[current_level] = {}\n",
    "        for node in range(node_amount):\n",
    "            merkle_tree[current_level][node] = hashlib.sha256(\n",
    "                merkle_tree[current_level-1][node*2]+\n",
    "                merkle_tree[current_level-1][(node*2)+1]\n",
    "            ).digest()\n",
    "    return merkle_tree\n",
    "\n",
    "def calculate_direction_selector(index, depth):\n",
    "    binary_repr = format(index, '0{}b'.format(depth))\n",
    "    bool_list = [(x=='1') for x in binary_repr]\n",
    "    bool_list.reverse()\n",
    "    return bool_list\n",
    "\n",
    "def calculate_index_path(index, depth):\n",
    "    binary_repr = format(index, '0{}b'.format(depth))\n",
    "    index_path = []\n",
    "    for level in range(depth):\n",
    "        binary_list = list(binary_repr[:depth-level])\n",
    "        binary_list[-1] = '1' if binary_list[-1]=='0' else '0'\n",
    "        neighboor_index_binary_string = ''.join(binary_list)\n",
    "        neighboor_index = int(neighboor_index_binary_string,2)\n",
    "        index_path.append(neighboor_index)\n",
    "    return index_path\n",
    "\n",
    "def calculate_path(index, depth, merkle_tree):\n",
    "    index_path = calculate_index_path(index, depth)\n",
    "    path = []\n",
    "    for level in range(depth):\n",
    "        path.append(merkle_tree[level][index_path[level]])\n",
    "    return path\n",
    "\n",
    "def verify_membership(public_key, direction_selector, path, root):\n",
    "    current_digest = public_key\n",
    "    for x in zip(path, direction_selector):\n",
    "        (left_digest, right_digest) = (x[0], current_digest) if x[1] else (current_digest, x[0])\n",
    "        current_digest = hashlib.sha256(left_digest+right_digest).digest()\n",
    "    return root==current_digest   "
   ]
  },
  {
   "cell_type": "markdown",
   "id": "42e7f0ef",
   "metadata": {},
   "source": [
    "On our implementation, we assume that the Public Key Set and its Accumulated Value is publicly available.\n",
    "\n",
    "In the Merkle-Tree case, the accumulated value is called Merkle-Tree Root, which can be calculated by everyone with the Public Key Set."
   ]
  },
  {
   "cell_type": "code",
   "execution_count": null,
   "id": "c0f62e4a",
   "metadata": {},
   "outputs": [],
   "source": [
    "merkle_tree = calculate_merkle_tree(public_key_set)\n",
    "merkle_tree_root = merkle_tree[DEPTH][0]"
   ]
  },
  {
   "cell_type": "markdown",
   "id": "853db411",
   "metadata": {},
   "source": [
    "# Generating the Membership Proof\n",
    "The User calculate their Membership Proof using the Accumulator Scheme, in this case the Merkle Proof.\n",
    "\n",
    "In order to calculate the Merkle Proof value, the User need to know their Public Key index on the Public Key Set."
   ]
  },
  {
   "cell_type": "code",
   "execution_count": null,
   "id": "9619ccc4",
   "metadata": {},
   "outputs": [],
   "source": [
    "user_index_leaf = 7\n",
    "user = {\n",
    "    'public_key': public_key_set[user_index_leaf],\n",
    "    'direction_selector': calculate_direction_selector(user_index_leaf, DEPTH),\n",
    "    'path': calculate_path(user_index_leaf, DEPTH, merkle_tree),\n",
    "}\n",
    "user"
   ]
  },
  {
   "cell_type": "markdown",
   "id": "3e2948c9",
   "metadata": {},
   "source": [
    "The User can check locally that the Membership Proof they calculated is correct. "
   ]
  },
  {
   "cell_type": "code",
   "execution_count": null,
   "id": "c8288215",
   "metadata": {},
   "outputs": [],
   "source": [
    "verify_membership(user['public_key'],user['direction_selector'],user['path'], merkle_tree_root)"
   ]
  },
  {
   "cell_type": "markdown",
   "id": "293ce219",
   "metadata": {},
   "source": [
    "# Generating the Zero-Knowledge Named Proof\n",
    "\n",
    "We design our Authentication Proof to be valid only if the User holds the information of the Agent Public Key and the User Private Key. By embedding the Agent Public key as the named of the proof we can prevent replay attack. We call this scheme as zkNamedProof.\n",
    "\n",
    "To calculate zkNamedProof, we put the Agent Public Key as the name of our Proof. In this case, the Agent's Public Key will be the Ethereum Account Address that consists of 20-bytes (40-characters of hexadecimals) data information.\n",
    "\n",
    "Due to the SHA256 block size reason in the previous public key calculation process, we also pad the Ethereum Account Address with 12-byte zero value from its left side to create a 32-bytes value (256-bit). Combined with the 256-bit from the private key, we digest both of these value to calculate the digested value.\n",
    "\n",
    "We use the following function to find the digested value of private key and account address:\n",
    "\n",
    "`sha256(private_key+(zero_padding+account_address))`,\n",
    "\n",
    "where each value has the following length:\n",
    "- `private_key`: 256-bit (32-byte)\n",
    "- `zero_padding`: 96-bit (12-byte)\n",
    "- `account_address`: 160-bit (20-byte)"
   ]
  },
  {
   "cell_type": "code",
   "execution_count": null,
   "id": "318f44a4",
   "metadata": {},
   "outputs": [],
   "source": [
    "NAME_BYTE_LENGTH = 20\n",
    "PAD_BYTE_AMOUNT = 12"
   ]
  },
  {
   "cell_type": "code",
   "execution_count": null,
   "id": "3c3765d0",
   "metadata": {},
   "outputs": [],
   "source": [
    "def convert_bytes20_hex_to_bytes(bytes20_hex):\n",
    "    return int(bytes20_hex,16).to_bytes(NAME_BYTE_LENGTH, \"big\")\n",
    "\n",
    "def calculate_digested_value(private_key, account_address):\n",
    "    padded_account_address = (int(0).to_bytes(PAD_BYTE_AMOUNT,\"big\"))+ account_address\n",
    "    return hashlib.sha256(private_key + padded_account_address).digest()"
   ]
  },
  {
   "cell_type": "markdown",
   "id": "bb8b2cb3",
   "metadata": {},
   "source": [
    "We need to calculate the Knowledge of Digested Value from the Private Key and the Agent's Public Key."
   ]
  },
  {
   "cell_type": "code",
   "execution_count": null,
   "id": "4cf27fcd",
   "metadata": {},
   "outputs": [],
   "source": [
    "user_index_leaf = 3\n",
    "chosen_agent_address_hex = agent_accounts[user_index_leaf]\n",
    "agent_account_address = convert_bytes20_hex_to_bytes(chosen_agent_address_hex)\n",
    "user_private_key = private_key_set[user_index_leaf]\n",
    "user_public_key = public_key_set[user_index_leaf]\n",
    "digested_value = calculate_digested_value(user_private_key, agent_account_address)\n",
    "digested_value"
   ]
  },
  {
   "cell_type": "markdown",
   "id": "3da7a97f",
   "metadata": {},
   "source": [
    "This value will be our new private witness that we will use to generate an Authentication Proof"
   ]
  },
  {
   "cell_type": "markdown",
   "id": "d875082a",
   "metadata": {},
   "source": [
    "# Compiling User Knowledge to Generate an Authentication Proof\n",
    "We are now ready to compile all the private witness and the public statement into an Authentication Proof.\n",
    "We reminds that our Authentication Proof consists of zkMembership Proof and zkNamed Proof.\n",
    "\n",
    "Given the following information:\n",
    "- User Public-Private Key Pair, \n",
    "- Public Key List, \n",
    "- the User Leaf Index of their Public Key in the Public Key List, and \n",
    "- the Agent's Account Address\n",
    "\n",
    "The User will calculate the whole Authentication Proof using the following steps:"
   ]
  },
  {
   "cell_type": "code",
   "execution_count": null,
   "id": "177f2941",
   "metadata": {},
   "outputs": [],
   "source": [
    "def compile_user_knowledge_npauth(public_key_set, agent_account_address_hex, private_key, public_key, public_key_index):\n",
    "    merkle_tree = calculate_merkle_tree(public_key_set)\n",
    "    merkle_tree_root = merkle_tree[DEPTH][0]\n",
    "    agent_account_address = convert_bytes20_hex_to_bytes(agent_account_address_hex)\n",
    "    user = {\n",
    "        'public_statement': {\n",
    "            'merkle_tree_root': merkle_tree_root,\n",
    "            'agent_account_address': agent_account_address,\n",
    "            'agent_account_address_hex': agent_account_address.hex()\n",
    "        },\n",
    "        'private_witness': {\n",
    "            'private_key': private_key,\n",
    "            'public_key': public_key,\n",
    "            'direction_selector': calculate_direction_selector(public_key_index, DEPTH),\n",
    "            'path': calculate_path(public_key_index, DEPTH, merkle_tree),\n",
    "            'digested_value': calculate_digested_value(private_key,agent_account_address),\n",
    "        }\n",
    "    }\n",
    "    return user"
   ]
  },
  {
   "cell_type": "code",
   "execution_count": null,
   "id": "3d6d2cbf",
   "metadata": {},
   "outputs": [],
   "source": [
    "user_leaf_index = 3\n",
    "user_private_key = private_key_set[user_leaf_index]\n",
    "user_public_key = public_key_set[user_leaf_index]\n",
    "agent_account_address_hex = agent_accounts[user_leaf_index]\n",
    "user = compile_user_knowledge_npauth(public_key_set, agent_account_address_hex, user_private_key, user_public_key,  user_leaf_index)\n",
    "user"
   ]
  },
  {
   "cell_type": "markdown",
   "id": "9073b4bc",
   "metadata": {},
   "source": [
    "# Summarizing The User Knowledge Creation Process\n",
    "We summarize the process in our scheme as follow:\n",
    "- User generate their private key\n",
    "- User calculate their public key\n",
    "- The Administrator registered the public key into the public key set and calculate the Merkle Root\n",
    "- The User choose an agent to send the Authentication Proof\n",
    "- The User compile all of their knowledge into an input to ZoKrates"
   ]
  },
  {
   "cell_type": "code",
   "execution_count": null,
   "id": "7000d89d-d566-45f7-b154-f285cce12aa3",
   "metadata": {},
   "outputs": [],
   "source": [
    "def pick_random_index_from_merkle_tree():\n",
    "    return random.randrange(2**DEPTH)"
   ]
  },
  {
   "cell_type": "code",
   "execution_count": null,
   "id": "6685c549",
   "metadata": {},
   "outputs": [],
   "source": [
    "# Assume the Administrator already have the populated public key set\n",
    " \n",
    "hidden_private_key_list, administrator_public_key_list = generate_public_private_key_set()\n",
    "\n",
    "\n",
    "random_leaf = pick_random_index_from_merkle_tree()\n",
    "random_private_key = hidden_private_key_list[random_leaf]\n",
    "\n",
    "# Assume the User generate a random private key with its respective public key was already registered \n",
    "# inside the Administrator's Public Key Set\n",
    "user_private_key = random_private_key\n",
    "user_public_key = calculate_public_key(user_private_key)\n",
    "user_public_key_index = random_leaf\n",
    "assert(user_public_key==administrator_public_key_list[user_public_key_index])"
   ]
  },
  {
   "cell_type": "code",
   "execution_count": null,
   "id": "b53f07d0",
   "metadata": {},
   "outputs": [],
   "source": [
    "# Please change the following address to your account address\n",
    "user_agent_account_address_hex = agent_accounts[random_leaf]\n",
    "user_npauth = compile_user_knowledge_npauth(\n",
    "    administrator_public_key_list, \n",
    "    user_agent_account_address_hex, \n",
    "    user_private_key, \n",
    "    user_public_key,  \n",
    "    user_public_key_index)\n",
    "user_npauth"
   ]
  },
  {
   "cell_type": "markdown",
   "id": "230c783d",
   "metadata": {},
   "source": [
    "# Zokrates Script\n",
    "\n",
    "In Zokrates, there are 5 main commands that we need to run:\n",
    "- `compile`\n",
    "- `setup`\n",
    "- `compute-witness`\n",
    "- `generate-proof`\n",
    "- `verify`\n",
    "\n",
    "We want to measure the elapsed-time for these commands to measure its performance.\n",
    "We use the built-in `%%timeit` command (`%%time` version can be used as alternative for shorter time) in IPython to measure these commands' elapsed-time.\n",
    "\n",
    "We also wrap all of these command as a function for ease-of-use\n",
    "\n",
    "Here are the specification of our implementation:\n",
    "- Backend: Bellman\n",
    "- Curve: ALT_BN128 (also known as BN254 and BN256)\n",
    "- Proving Scheme: Groth16"
   ]
  },
  {
   "cell_type": "code",
   "execution_count": null,
   "id": "8f673b85-e4f8-4d5b-b406-ccaef2b44168",
   "metadata": {},
   "outputs": [],
   "source": [
    "TEMP_DIRECTORY_PATH = 'temp'\n",
    "ZOKRATES_DIRECTORY_PATH = 'zokrates'\n",
    "BUILD_DIRECTORY_PATH = 'builds'\n",
    "KEY_DIRECTORY_PATH = 'keys'\n",
    "PROOF_DIRECTORY_PATH = 'proofs'\n",
    "CONTRACT_DIRECTORY_PATH = 'contracts'"
   ]
  },
  {
   "cell_type": "code",
   "execution_count": null,
   "id": "0786985e-36ad-4194-bc83-b13f99879df1",
   "metadata": {},
   "outputs": [],
   "source": [
    "import subprocess\n",
    "import shlex\n",
    "\n",
    "def subprocess_run_wrapper(command, byte_input=None, print_stdout=False):\n",
    "    process = subprocess.run(shlex.split(command), input=byte_input, stdout=subprocess.PIPE)\n",
    "    stdout_string = process.stdout.decode('UTF-8')\n",
    "    if print_stdout:\n",
    "        print(stdout_string)\n",
    "    # Make sure the returncode is accepted\n",
    "    assert(process.returncode == 0)\n",
    "    return stdout_string"
   ]
  },
  {
   "cell_type": "markdown",
   "id": "682b52e5",
   "metadata": {},
   "source": [
    "# Compiling ZoKrates Script\n",
    "We provide the ZoKrates script as the representation of the circuit of our Authentication Proof.\n",
    "First, we need to run the `zokrates compile` command with the `npauth.zok` as the input.\n",
    "\n",
    "This command will generate the followings file:\n",
    "- `abi.json`\n",
    "- `out`\n",
    "- `out.r1cs`\n",
    "\n",
    "We can see the amount of constraint is needed to represent our circuit into the R1CS representation."
   ]
  },
  {
   "cell_type": "code",
   "execution_count": null,
   "id": "0f6e7e24",
   "metadata": {},
   "outputs": [],
   "source": [
    "def compile_zokrates_script(scheme_name):\n",
    "    path = {}\n",
    "    path['temp_directory'] = TEMP_DIRECTORY_PATH\n",
    "    path['zokrates_directory'] = ZOKRATES_DIRECTORY_PATH\n",
    "    path['build_directory'] = BUILD_DIRECTORY_PATH\n",
    "    path['scheme_name'] = scheme_name\n",
    "\n",
    "    zokrates_path_string = '{zokrates_directory}/{scheme_name}.zok'.format(**path)\n",
    "    build_path_string = '{temp_directory}/{build_directory}/{scheme_name}/'.format(**path)\n",
    "    \n",
    "    os.system('mkdir -p ' + build_path_string)\n",
    "    zokrates_compile_command = ('zokrates compile '+\n",
    "        '-s '+ build_path_string +'abi.json '+\n",
    "        '-o '+ build_path_string +'out '+\n",
    "        '-r '+ build_path_string +'out.r1cs '+\n",
    "        '-i '+ zokrates_path_string)\n",
    "    stdout_string = subprocess_run_wrapper(zokrates_compile_command)\n",
    "    circuit_size = int(stdout_string.split(' ')[-1].replace('\\n',''))\n",
    "    return circuit_size"
   ]
  },
  {
   "cell_type": "code",
   "execution_count": null,
   "id": "f21c1db2",
   "metadata": {},
   "outputs": [],
   "source": [
    "circuit_size = compile_zokrates_script('npauth')\n",
    "circuit_size"
   ]
  },
  {
   "cell_type": "markdown",
   "id": "b377ffdd",
   "metadata": {},
   "source": [
    "# Generating keys using Trusted Setup\n",
    "We want to generate the proving key and the verification key using the Trusted Setup. \n",
    "\n",
    "We run the `zokrates setup` command with the previous `out` file from the `compile` command as an input.\n",
    "We will use the `bellman` backend for this implementation due to the other backend `ark` is buggy in our experience."
   ]
  },
  {
   "cell_type": "code",
   "execution_count": null,
   "id": "83f3869b",
   "metadata": {},
   "outputs": [],
   "source": [
    "def generate_proving_verification_key_with_trusted_setup(scheme_name):\n",
    "    path = {}\n",
    "    path['temp_directory'] = TEMP_DIRECTORY_PATH\n",
    "    path['zokrates_directory'] = ZOKRATES_DIRECTORY_PATH\n",
    "    path['build_directory'] = BUILD_DIRECTORY_PATH\n",
    "    path['scheme_name'] = scheme_name\n",
    "    path['key_directory'] = KEY_DIRECTORY_PATH\n",
    "\n",
    "    build_path_string = '{temp_directory}/{build_directory}/{scheme_name}/'.format(**path)\n",
    "    key_path_string = '{temp_directory}/{key_directory}/{scheme_name}/'.format(**path)\n",
    "    os.system('mkdir -p ' + key_path_string)\n",
    "    zokrates_setup_command = ('zokrates setup '+\n",
    "        '-i '+ build_path_string +'out '+\n",
    "        '--backend bellman ' +\n",
    "        '--proving-key-path '+ key_path_string +'proving.key '+\n",
    "        '--verification-key-path '+ key_path_string +'verification.key')\n",
    "    stdout_string = subprocess_run_wrapper(zokrates_setup_command)\n",
    "\n",
    "def check_keys_size(scheme_name):\n",
    "    path = {}\n",
    "    path['temp_directory'] = TEMP_DIRECTORY_PATH\n",
    "    path['key_directory'] = KEY_DIRECTORY_PATH\n",
    "    path['scheme_name'] = scheme_name\n",
    "    \n",
    "    key_path_string = '{temp_directory}/{key_directory}/{scheme_name}/'.format(**path)\n",
    "    \n",
    "    pk_size = os.path.getsize(key_path_string + 'proving.key')\n",
    "    vk_size = os.path.getsize(key_path_string + 'verification.key')\n",
    "    print('Proving Key Size in Bytes: {:,}'.format(pk_size))\n",
    "    print('Verification Key Size in Bytes: {:,}'.format(vk_size))\n",
    "    return (pk_size, vk_size)\n",
    "    "
   ]
  },
  {
   "cell_type": "code",
   "execution_count": null,
   "id": "b09718e8",
   "metadata": {},
   "outputs": [],
   "source": [
    "generate_proving_verification_key_with_trusted_setup('npauth')"
   ]
  },
  {
   "cell_type": "code",
   "execution_count": null,
   "id": "bc4cf5ec",
   "metadata": {},
   "outputs": [],
   "source": [
    "check_keys_size('npauth')"
   ]
  },
  {
   "cell_type": "markdown",
   "id": "990fbaf0",
   "metadata": {},
   "source": [
    "# Generating the proof using ZoKrates\n",
    "Using the previous user information, we will create a proof using ZoKrates."
   ]
  },
  {
   "cell_type": "code",
   "execution_count": null,
   "id": "560f7309",
   "metadata": {},
   "outputs": [],
   "source": [
    "def convert_bytes_array_to_u32_array(bytes_array):\n",
    "    four_bytes_array = [bytes_array[x:x+4] for x in range(0,len(bytes_array),4)]\n",
    "    uint32_array = [int().from_bytes(x,\"big\") for x in four_bytes_array]\n",
    "    return uint32_array\n",
    "\n",
    "def convert_bytes_array_to_u32_string_array(bytes_array):\n",
    "    return [str(u32_array) for u32_array in convert_bytes_array_to_u32_array(bytes_array)]"
   ]
  },
  {
   "cell_type": "code",
   "execution_count": null,
   "id": "8b40b8a5-523a-4151-9038-0408c3b0db1b",
   "metadata": {},
   "outputs": [],
   "source": [
    "def generate_proof_from_user_knowledge(scheme_name, scheme_format_function, scheme_proof_subdirectory_path, user_knowledge_dictionary):\n",
    "    path = {}\n",
    "    path['temp_directory'] = TEMP_DIRECTORY_PATH\n",
    "    path['zokrates_directory'] = ZOKRATES_DIRECTORY_PATH\n",
    "    path['build_directory'] = BUILD_DIRECTORY_PATH\n",
    "    path['key_directory'] = KEY_DIRECTORY_PATH\n",
    "    path['scheme_name'] = scheme_name\n",
    "    path['proof_directory'] = PROOF_DIRECTORY_PATH\n",
    "    path['public_key_hex'] = user_knowledge_dictionary['private_witness']['public_key'].hex()\n",
    "    path['scheme_proof_subdirectory'] = scheme_proof_subdirectory_path.format(**user_knowledge_dictionary)\n",
    "    \n",
    "    build_path_string = '{temp_directory}/{build_directory}/{scheme_name}/'.format(**path)\n",
    "    key_path_string = '{temp_directory}/{key_directory}/{scheme_name}/'.format(**path)\n",
    "    proof_path_string = '{temp_directory}/{proof_directory}/{scheme_name}/{public_key_hex}{scheme_proof_subdirectory}/'.format(**path)\n",
    "\n",
    "    # Calculating input array using the scheme's format function\n",
    "    zokrates_input_array = scheme_format_function(user_knowledge_dictionary)\n",
    "    zokrates_json_string = json.dumps(zokrates_input_array)\n",
    "\n",
    "    os.system('mkdir -p ' + proof_path_string)\n",
    "\n",
    "    # Generating witness from input.json    \n",
    "    zokrates_compute_witness_command = ('zokrates compute-witness '+\n",
    "    '-s '+ build_path_string + 'abi.json '+\n",
    "    '-i '+ build_path_string +'out '+\n",
    "    '--circom-witness '+ build_path_string +'out.wtns '+\n",
    "    '-o ' + proof_path_string + 'witness ' +\n",
    "    '--verbose --abi '+\n",
    "    '--stdin')\n",
    "    \n",
    "    stdout_string = subprocess_run_wrapper(zokrates_compute_witness_command, zokrates_json_string.encode())\n",
    "    assert(stdout_string.split('\\n')[3]=='true')\n",
    "    \n",
    "    \n",
    "    # Generating proof from witness\n",
    "    # Check if proof_output.json file exists and not overwriting existing files\n",
    "    zokrates_generate_proof_command = ('zokrates generate-proof '+\n",
    "    '--backend bellman ' +\n",
    "    '-i '+ build_path_string +'out '+\n",
    "    '-w '+ proof_path_string +'witness '+\n",
    "    '-p '+ key_path_string + 'proving.key '+\n",
    "    '-j '+ proof_path_string +'proof_output.json')\n",
    "    subprocess_run_wrapper(zokrates_generate_proof_command)\n",
    "    "
   ]
  },
  {
   "cell_type": "code",
   "execution_count": null,
   "id": "79fc6331-8585-4f36-a4c3-4c6b0d49efb8",
   "metadata": {},
   "outputs": [],
   "source": [
    "def format_npauth_user_knowledge_into_zokrates_input_array(user):\n",
    "    zokrates_input = [\n",
    "        convert_bytes_array_to_u32_string_array(user['public_statement']['merkle_tree_root']),\n",
    "        convert_bytes_array_to_u32_string_array(user['public_statement']['agent_account_address']),\n",
    "        convert_bytes_array_to_u32_string_array(user['private_witness']['private_key']),\n",
    "        convert_bytes_array_to_u32_string_array(user['private_witness']['public_key']),\n",
    "        user['private_witness']['direction_selector'],\n",
    "        [convert_bytes_array_to_u32_string_array(bytes_array) for bytes_array in user['private_witness']['path']],\n",
    "        convert_bytes_array_to_u32_string_array(user['private_witness']['digested_value']),\n",
    "    ]\n",
    "    return zokrates_input"
   ]
  },
  {
   "cell_type": "code",
   "execution_count": null,
   "id": "c2ea7495-3fba-4d86-98c4-1f17da6877cc",
   "metadata": {},
   "outputs": [],
   "source": [
    "generate_proof_from_user_knowledge('npauth', format_npauth_user_knowledge_into_zokrates_input_array, '/{public_statement[agent_account_address_hex]}', user_npauth)"
   ]
  },
  {
   "cell_type": "code",
   "execution_count": null,
   "id": "44b8f281-c63a-4dec-84bc-8310ca6dbaa0",
   "metadata": {},
   "outputs": [],
   "source": [
    "def verify_generated_proof_with_verification_key(scheme_name, scheme_proof_subdirectory_path, user_knowledge_dictionary):\n",
    "    path = {}\n",
    "    path['temp_directory'] = TEMP_DIRECTORY_PATH\n",
    "    path['zokrates_directory'] = ZOKRATES_DIRECTORY_PATH\n",
    "    path['key_directory'] = KEY_DIRECTORY_PATH\n",
    "    path['scheme_name'] = scheme_name\n",
    "    path['proof_directory'] = PROOF_DIRECTORY_PATH\n",
    "    path['public_key_hex'] = user_knowledge_dictionary['private_witness']['public_key'].hex()\n",
    "    path['scheme_proof_subdirectory'] = scheme_proof_subdirectory_path.format(**user_knowledge_dictionary)\n",
    "\n",
    "    key_path_string = '{temp_directory}/{key_directory}/{scheme_name}/'.format(**path)\n",
    "    proof_path_string = '{temp_directory}/{proof_directory}/{scheme_name}/{public_key_hex}{scheme_proof_subdirectory}/'.format(**path)\n",
    "    \n",
    "    zokrates_verify_command = ('zokrates verify '+\n",
    "    '-v '+ key_path_string +'verification.key '+\n",
    "    '-j '+ proof_path_string +'proof_output.json')\n",
    "    return subprocess_run_wrapper(zokrates_verify_command)"
   ]
  },
  {
   "cell_type": "code",
   "execution_count": null,
   "id": "b464d280-3fae-4c7a-a26d-32cd2c24cd65",
   "metadata": {},
   "outputs": [],
   "source": [
    "verify_generated_proof_with_verification_key('npauth', '/{public_statement[agent_account_address_hex]}', user_npauth)"
   ]
  },
  {
   "cell_type": "markdown",
   "id": "15fb659b",
   "metadata": {},
   "source": [
    "# Generating Verification Contract\n",
    "ZoKrates provides a way to generate a Smart Contract that can verify our proof in one command.\n",
    "\n",
    "We run the command `zokrates export-verifier` to generate the Solidity file called `verifier.sol`. We contain this Solidity file on `contracts` directory."
   ]
  },
  {
   "cell_type": "code",
   "execution_count": null,
   "id": "e2f97521",
   "metadata": {},
   "outputs": [],
   "source": [
    "def generate_verification_contract_from_verification_key(scheme_name):\n",
    "    path = {}\n",
    "    path['temp_directory'] = TEMP_DIRECTORY_PATH\n",
    "    path['scheme_name'] = scheme_name\n",
    "    path['key_directory'] = KEY_DIRECTORY_PATH\n",
    "    path['contract_path'] = CONTRACT_DIRECTORY_PATH\n",
    "\n",
    "    contract_path_string = '{temp_directory}/{contract_path}/'.format(**path)\n",
    "    key_path_string = '{temp_directory}/{key_directory}/{scheme_name}/'.format(**path)\n",
    "    contract_name = '{scheme_name}_verifier.sol'.format(**path)\n",
    "    \n",
    "    #Check if verifier.sol file exists and not overwriting existing files\n",
    "    os.system('mkdir -p ' + contract_path_string)\n",
    "    zokrates_export_verifier_command = ('zokrates export-verifier '\n",
    "    '-i '+ key_path_string +'verification.key '\n",
    "    '-o '+ contract_path_string + contract_name)\n",
    "    return subprocess_run_wrapper(zokrates_export_verifier_command)"
   ]
  },
  {
   "cell_type": "code",
   "execution_count": null,
   "id": "6d96cc69",
   "metadata": {},
   "outputs": [],
   "source": [
    "generate_verification_contract_from_verification_key('npauth')"
   ]
  },
  {
   "cell_type": "markdown",
   "id": "224108aa",
   "metadata": {},
   "source": [
    "# Deploying the Blockchain-Based Authentication Scheme\n",
    "Using the previous contract, we can extend it to create an authentication scheme. We provide our source code in the `contracts` directory called `npauth.sol`.\n",
    "\n",
    "We will deploy the previous smart contract using Web3.py.\n",
    "\n",
    "Before deploying the smart contract, we need to compile the smart contract using the following commands."
   ]
  },
  {
   "cell_type": "code",
   "execution_count": null,
   "id": "dd2b758a",
   "metadata": {},
   "outputs": [],
   "source": [
    "from solcx import install_solc, compile_files, set_solc_version\n",
    "install_solc(version='0.8.24')\n",
    "set_solc_version('0.8.24')\n",
    "def compile_and_deploy_authentication_contract(scheme_name, class_name, web3_http_provider, return_receipt=False):\n",
    "    path = {}\n",
    "    path['scheme_name'] = scheme_name\n",
    "    path['class_name'] = class_name\n",
    "    path['contract_directory'] = CONTRACT_DIRECTORY_PATH\n",
    "    compiled = compile_files([os.getcwd()+\"/{contract_directory}/{scheme_name}.sol\".format(**path)], output_values=[\"abi\", \"bin\"], allow_paths = os.getcwd()+\"/temp/contracts\")\n",
    "    output = compiled['{contract_directory}/{scheme_name}.sol:{class_name}'.format(**path)]\n",
    "    compiled_web3_contract = web3_http_provider.eth.contract(abi=output['abi'], bytecode=output['bin'])\n",
    "    # We use the default account to send the transaction (e.g., the first account in the HD wallet)\n",
    "    tx_hash = compiled_web3_contract.constructor().transact()\n",
    "    tx_receipt = web3_http_provider.eth.wait_for_transaction_receipt(tx_hash)\n",
    "    deployed_web3_contract = web3_http_provider.eth.contract(address=tx_receipt.contractAddress, abi=output['abi'])\n",
    "    if return_receipt:\n",
    "        return (deployed_web3_contract, tx_receipt)\n",
    "    return deployed_web3_contract"
   ]
  },
  {
   "cell_type": "code",
   "execution_count": null,
   "id": "0cc56b9d",
   "metadata": {},
   "outputs": [],
   "source": [
    "npauth_contract = compile_and_deploy_authentication_contract('npauth', 'NPAuth', w3)"
   ]
  },
  {
   "cell_type": "markdown",
   "id": "347246b5",
   "metadata": {},
   "source": [
    "# Interacting with the Authentication Contract\n",
    "\n",
    "After deploying the previous authentication contract, we need to interact with the smart contract.\n",
    "\n",
    "We give some mandatory functions to interact with our authentication contract."
   ]
  },
  {
   "cell_type": "code",
   "execution_count": null,
   "id": "cbf6de58",
   "metadata": {},
   "outputs": [],
   "source": [
    "def update_current_merkle_root_of_the_auth_contract(web3_contract, merkle_root_bytes, web3_http_provider):\n",
    "    # We use the default account to send the transaction (e.g., the first account in the HD wallet)\n",
    "    tx_hash = web3_contract.functions.update_current_merkle_root(merkle_root_bytes).transact()\n",
    "    tx_receipt = web3_http_provider.eth.wait_for_transaction_receipt(tx_hash)\n",
    "    return tx_receipt\n",
    "\n",
    "def connect_to_contract(contract_address, contract_abi, web3_http_provider):\n",
    "    return web3_http_provider.eth.contract(address=contract_address, abi=contract_abi)"
   ]
  },
  {
   "cell_type": "markdown",
   "id": "283e2736",
   "metadata": {},
   "source": [
    "Our previous function help us to update the merkle root in the authentication contract. The previous function should be done only by administrator in the real-world."
   ]
  },
  {
   "cell_type": "code",
   "execution_count": null,
   "id": "b8cefbdc",
   "metadata": {},
   "outputs": [],
   "source": [
    "update_current_merkle_root_of_the_auth_contract(npauth_contract, user_npauth['public_statement']['merkle_tree_root'], w3)"
   ]
  },
  {
   "cell_type": "code",
   "execution_count": null,
   "id": "8eba9e5c",
   "metadata": {},
   "outputs": [],
   "source": [
    "#Make sure these two values is identical after updating the merkle root\n",
    "npauth_contract.functions.current_merkle_root().call().hex()==user_npauth['public_statement']['merkle_tree_root'].hex()"
   ]
  },
  {
   "cell_type": "markdown",
   "id": "5e9be2fd",
   "metadata": {},
   "source": [
    "After updating the merkle root, now we will try to send our authentication request to the authentication contract. We do this by first parsing the `proof_output.json` file from the ZoKrates output in the previous step. We give the functions below to do this thing."
   ]
  },
  {
   "cell_type": "code",
   "execution_count": null,
   "id": "0a238a0c",
   "metadata": {},
   "outputs": [],
   "source": [
    "def parse_proof_output_json_into_contract_input(scheme_name, scheme_format_function, scheme_proof_subdirectory_path, user_knowledge_dictionary):\n",
    "    path = {}\n",
    "    path['temp_directory'] = TEMP_DIRECTORY_PATH\n",
    "    path['zokrates_directory'] = ZOKRATES_DIRECTORY_PATH\n",
    "    path['build_directory'] = BUILD_DIRECTORY_PATH\n",
    "    path['key_directory'] = KEY_DIRECTORY_PATH\n",
    "    path['scheme_name'] = scheme_name\n",
    "    path['proof_directory'] = PROOF_DIRECTORY_PATH\n",
    "    path['public_key_hex'] = user_knowledge_dictionary['private_witness']['public_key'].hex()\n",
    "    path['scheme_proof_subdirectory'] = scheme_proof_subdirectory_path.format(**user_knowledge_dictionary)\n",
    "\n",
    "    proof_path_string = '{temp_directory}/{proof_directory}/{scheme_name}/{public_key_hex}{scheme_proof_subdirectory}/'.format(**path)\n",
    "    \n",
    "    with open(proof_path_string + 'proof_output.json') as f:\n",
    "        parsed_json = json.load(f)\n",
    "    g1_point_a = (int(parsed_json['proof']['a'][0],16), int(parsed_json['proof']['a'][1],16))\n",
    "    g2_point_b = ([int(x,16) for x in parsed_json['proof']['b'][0]], [int(x,16) for x in parsed_json['proof']['b'][1]])\n",
    "    g1_point_c = (int(parsed_json['proof']['c'][0],16), int(parsed_json['proof']['c'][1],16))\n",
    "    proof = (g1_point_a, g2_point_b, g1_point_c)\n",
    "    hex_lists = parsed_json['inputs']\n",
    "    inputs = [int(x, 16) for x in hex_lists]\n",
    "    return proof, inputs\n",
    "\n",
    "def send_authentication_request_using_designated_agent(web3_http_provider, deployed_contract, proof, inputs, designated_agent_address):\n",
    "    # In this case, we can't use default account like the previous example\n",
    "    tx_hash = deployed_contract.functions.authentication_with_broadcast(proof, inputs).transact({\"from\": designated_agent_address})\n",
    "    tx_receipt = web3_http_provider.eth.wait_for_transaction_receipt(tx_hash)\n",
    "    return tx_receipt"
   ]
  },
  {
   "cell_type": "markdown",
   "id": "3ccea0b8",
   "metadata": {},
   "source": [
    "Running the command below will send the transaction request to the authentication contract. If the authentication process is successful, the amount of gas used is around 380k gas."
   ]
  },
  {
   "cell_type": "code",
   "execution_count": null,
   "id": "16ff2fdd",
   "metadata": {},
   "outputs": [],
   "source": [
    "np_proof, np_inputs = parse_proof_output_json_into_contract_input('npauth', format_npauth_user_knowledge_into_zokrates_input_array, '/{public_statement[agent_account_address_hex]}', user_npauth)\n",
    "send_authentication_request_using_designated_agent(w3, npauth_contract, np_proof, np_inputs, user_agent_account_address_hex)"
   ]
  },
  {
   "cell_type": "markdown",
   "id": "343fe16e",
   "metadata": {},
   "source": [
    "Using different agent to submit this authentication request will result in fail due to the safety mechanism inside the smart contract. Below are the example of such things. The gas used is only 58k compared to 380k."
   ]
  },
  {
   "cell_type": "code",
   "execution_count": null,
   "id": "2a4ef044",
   "metadata": {},
   "outputs": [],
   "source": [
    "send_authentication_request_using_designated_agent(w3, npauth_contract, np_proof, np_inputs, agent_accounts[0])"
   ]
  },
  {
   "cell_type": "markdown",
   "id": "2751c48d",
   "metadata": {},
   "source": [
    "# Other Scheme Implementation\n",
    "We implement the different scheme as well in our experiment.\n",
    "\n",
    "## HashAuth Implementation (REMOVED)"
   ]
  },
  {
   "cell_type": "markdown",
   "id": "63e440eb",
   "metadata": {},
   "source": [
    "This scheme is removed in the manuscript due to its malleability vulnerability.\n",
    "\n",
    "Due to the different logic in the circuit, we need to remove the agent information from the user to generate a correct zokrates input for other scheme.\n",
    "\n",
    "We will run the following command to generate the HashAuth scheme's zokrates input."
   ]
  },
  {
   "cell_type": "code",
   "execution_count": null,
   "id": "afc98635-e57e-4245-9d1a-295c81a33e4a",
   "metadata": {},
   "outputs": [],
   "source": [
    "def compile_user_knowledge_hashauth(public_key_set, agent_account_address_hex, private_key, public_key, public_key_index):\n",
    "    merkle_tree = calculate_merkle_tree(public_key_set)\n",
    "    merkle_tree_root = merkle_tree[DEPTH][0]\n",
    "    user = {\n",
    "        'public_statement': {\n",
    "            'merkle_tree_root': merkle_tree_root,\n",
    "            'random': random.getrandbits(160).to_bytes(20, \"big\").hex()\n",
    "        },\n",
    "        'private_witness': {\n",
    "            'private_key': private_key,\n",
    "            'public_key': public_key,\n",
    "            'direction_selector': calculate_direction_selector(public_key_index, DEPTH),\n",
    "            'path': calculate_path(public_key_index, DEPTH, merkle_tree),\n",
    "        }\n",
    "    }\n",
    "    return user"
   ]
  },
  {
   "cell_type": "code",
   "execution_count": null,
   "id": "81ec77a9",
   "metadata": {},
   "outputs": [],
   "source": [
    "def format_hashauth_user_knowledge_into_zokrates_input_array(user):\n",
    "    zokrates_input = [\n",
    "        convert_bytes_array_to_u32_string_array(user['public_statement']['merkle_tree_root']),\n",
    "        convert_bytes_array_to_u32_string_array(user['private_witness']['private_key']),\n",
    "        convert_bytes_array_to_u32_string_array(user['private_witness']['public_key']),\n",
    "        user['private_witness']['direction_selector'],\n",
    "        [convert_bytes_array_to_u32_string_array(bytes_array) for bytes_array in user['private_witness']['path']],\n",
    "    ]\n",
    "    return zokrates_input"
   ]
  },
  {
   "cell_type": "markdown",
   "id": "ac108017",
   "metadata": {},
   "source": [
    "### Setup Phase\n",
    "We need to run the following command once to do the following things:\n",
    "- Script Compilation\n",
    "- Trusted Setup Process\n",
    "- Verification Contract Generation"
   ]
  },
  {
   "cell_type": "code",
   "execution_count": null,
   "id": "076ea84a",
   "metadata": {},
   "outputs": [],
   "source": [
    "compile_zokrates_script('hashauth')"
   ]
  },
  {
   "cell_type": "code",
   "execution_count": null,
   "id": "39802a65",
   "metadata": {},
   "outputs": [],
   "source": [
    "generate_proving_verification_key_with_trusted_setup('hashauth')"
   ]
  },
  {
   "cell_type": "code",
   "execution_count": null,
   "id": "2dbb876c",
   "metadata": {},
   "outputs": [],
   "source": [
    "generate_verification_contract_from_verification_key('hashauth')"
   ]
  },
  {
   "cell_type": "code",
   "execution_count": null,
   "id": "866849d5",
   "metadata": {},
   "outputs": [],
   "source": [
    "check_keys_size('hashauth')"
   ]
  },
  {
   "cell_type": "markdown",
   "id": "a7f6ced4",
   "metadata": {},
   "source": [
    "### Proof Generation Phase\n",
    "The following process need to be done multiple times. The witness need to be calculated every time the Administrator update the merkle root, while the proof generation process is done on every access request."
   ]
  },
  {
   "cell_type": "code",
   "execution_count": null,
   "id": "9dbbc73f-828e-4b7a-bba9-e9fe49ba67c7",
   "metadata": {},
   "outputs": [],
   "source": [
    "user_hashauth = compile_user_knowledge_hashauth(\n",
    "    administrator_public_key_list, \n",
    "    user_agent_account_address_hex, \n",
    "    user_private_key, \n",
    "    user_public_key,  \n",
    "    user_public_key_index)\n",
    "user_hashauth"
   ]
  },
  {
   "cell_type": "code",
   "execution_count": null,
   "id": "1f8a85e0-06c1-48ff-bd2b-50cb33a5ec18",
   "metadata": {},
   "outputs": [],
   "source": [
    "generate_proof_from_user_knowledge('hashauth', format_hashauth_user_knowledge_into_zokrates_input_array, '/{public_statement[random]}', user_hashauth)"
   ]
  },
  {
   "cell_type": "code",
   "execution_count": null,
   "id": "49de1539",
   "metadata": {},
   "outputs": [],
   "source": [
    "verify_generated_proof_with_verification_key('hashauth', '/{public_statement[random]}', user_hashauth)"
   ]
  },
  {
   "cell_type": "markdown",
   "id": "19488e74",
   "metadata": {},
   "source": [
    "Use the previous codes to deploy, update, and send the authentication request. "
   ]
  },
  {
   "cell_type": "code",
   "execution_count": null,
   "id": "39c41fe3",
   "metadata": {},
   "outputs": [],
   "source": [
    "hashauth_contract = compile_and_deploy_authentication_contract('hashauth', 'HashAuth', w3)\n",
    "update_current_merkle_root_of_the_auth_contract(hashauth_contract, user['public_statement']['merkle_tree_root'], w3)\n",
    "hash_proof, hash_inputs = parse_proof_output_json_into_contract_input('hashauth', format_hashauth_user_knowledge_into_zokrates_input_array, '/{public_statement[random]}', user_hashauth)\n",
    "send_authentication_request_using_designated_agent(w3, hashauth_contract, hash_proof, hash_inputs, user_agent_account_address_hex)"
   ]
  },
  {
   "cell_type": "markdown",
   "id": "42f58f47",
   "metadata": {},
   "source": [
    "## Nullifier NonceAuth Implementation\n",
    "We implement our third implementation from Anonymous Parking Authentication, which we called Nullifier NonceAuth, due to its core idea of using rotating nonce as a nullifier value to the smart contract.\n",
    "\n",
    "On the circuit logic, this implementation is identical to the NPAuth. The two scheme use the following 2 public information:\n",
    "- Current Merkle Root\n",
    "- Nonce or Agent Address\n",
    "\n",
    "For the experiment purpose, we decide the Nonce Length in the circuit to be identical to the Agent Address Length (both 20-bytes length).\n",
    "\n",
    "The main difference of these schemes lies on the Smart Contract when evaluating the nonce or the agent address. We explained the logic of the rotating nonce in the main paper.\n",
    "\n",
    "We wrote a zokrates script called `nullifier_nonceauth.zok` by renaming the `agent_account_address` into `rotating_nonce` in the script. We choose the same lenght of the rotating nonce to make a better comparison between each scheme.\n",
    "\n",
    "### Setup Phase\n",
    "We run the similar setup phase as the previous scheme."
   ]
  },
  {
   "cell_type": "code",
   "execution_count": null,
   "id": "717c2802",
   "metadata": {},
   "outputs": [],
   "source": [
    "compile_zokrates_script('nullifier_nonceauth')"
   ]
  },
  {
   "cell_type": "code",
   "execution_count": null,
   "id": "d2a371b6",
   "metadata": {},
   "outputs": [],
   "source": [
    "generate_proving_verification_key_with_trusted_setup('nullifier_nonceauth')"
   ]
  },
  {
   "cell_type": "code",
   "execution_count": null,
   "id": "158d2f04",
   "metadata": {},
   "outputs": [],
   "source": [
    "generate_verification_contract_from_verification_key('nullifier_nonceauth')"
   ]
  },
  {
   "cell_type": "code",
   "execution_count": null,
   "id": "6e275dad",
   "metadata": {},
   "outputs": [],
   "source": [
    "check_keys_size('nullifier_nonceauth')"
   ]
  },
  {
   "cell_type": "markdown",
   "id": "3f159605",
   "metadata": {},
   "source": [
    "### Proof Generation Phase\n",
    "Unlike the previous scheme, we need to always update the nonce to the current_nonce on blockchain."
   ]
  },
  {
   "cell_type": "code",
   "execution_count": null,
   "id": "830cb530",
   "metadata": {},
   "outputs": [],
   "source": [
    "def compile_user_knowledge_nullifier_nonceauth(public_key_set, private_key, public_key, public_key_index, nonce_hex):\n",
    "    merkle_tree = calculate_merkle_tree(public_key_set)\n",
    "    merkle_tree_root = merkle_tree[DEPTH][0]\n",
    "    nonce_bytes_array = convert_bytes20_hex_to_bytes(nonce_hex)\n",
    "    user = {\n",
    "        'public_statement': {\n",
    "            'merkle_tree_root': merkle_tree_root,\n",
    "            'nonce': nonce_bytes_array,\n",
    "            'nonce_hex': nonce_bytes_array.hex()\n",
    "        },\n",
    "        'private_witness': {\n",
    "            'private_key': private_key,\n",
    "            'public_key': public_key,\n",
    "            'direction_selector': calculate_direction_selector(public_key_index, DEPTH),\n",
    "            'path': calculate_path(public_key_index, DEPTH, merkle_tree),\n",
    "            'digested_value': calculate_digested_value(private_key,nonce_bytes_array),\n",
    "        }\n",
    "    }\n",
    "    return user\n",
    "\n",
    "def format_nullifier_nonceauth_user_knowledge_into_zokrates_input_array(user):\n",
    "    zokrates_input = [\n",
    "        convert_bytes_array_to_u32_string_array(user['public_statement']['merkle_tree_root']),\n",
    "        convert_bytes_array_to_u32_string_array(user['public_statement']['nonce']),\n",
    "        convert_bytes_array_to_u32_string_array(user['private_witness']['private_key']),\n",
    "        convert_bytes_array_to_u32_string_array(user['private_witness']['public_key']),\n",
    "        user['private_witness']['direction_selector'],\n",
    "        [convert_bytes_array_to_u32_string_array(bytes_array) for bytes_array in user['private_witness']['path']],\n",
    "        convert_bytes_array_to_u32_string_array(user['private_witness']['digested_value']),\n",
    "    ]\n",
    "    return zokrates_input"
   ]
  },
  {
   "cell_type": "code",
   "execution_count": null,
   "id": "7285e731",
   "metadata": {},
   "outputs": [],
   "source": [
    "# Generate random nonce for the sake of initialization\n",
    "random_integer = random.getrandbits(160)\n",
    "random_hex_from_random_integer = random_integer.to_bytes(20, \"big\").hex()\n",
    "nonce_hex = random_hex_from_random_integer\n",
    "user_nonce = compile_user_knowledge_nullifier_nonceauth(\n",
    "    administrator_public_key_list,  \n",
    "    user_private_key, \n",
    "    user_public_key,  \n",
    "    user_public_key_index,\n",
    "    nonce_hex)\n",
    "user_nonce"
   ]
  },
  {
   "cell_type": "code",
   "execution_count": null,
   "id": "f90cf4ce-1ca6-4b68-abe0-2e0b7a54fb04",
   "metadata": {},
   "outputs": [],
   "source": [
    "generate_proof_from_user_knowledge('nullifier_nonceauth', format_nullifier_nonceauth_user_knowledge_into_zokrates_input_array, '/{public_statement[nonce_hex]}', user_nonce)"
   ]
  },
  {
   "cell_type": "code",
   "execution_count": null,
   "id": "bfc45ec1",
   "metadata": {},
   "outputs": [],
   "source": [
    "verify_generated_proof_with_verification_key('nullifier_nonceauth', '/{public_statement[nonce_hex]}', user_nonce)"
   ]
  },
  {
   "cell_type": "markdown",
   "id": "289af2b5",
   "metadata": {},
   "source": [
    "We need to add one more function to update the current nonce on this authentication contract, which is nearly identical to the `update_current_merkle_root_of_the_auth_contract()`."
   ]
  },
  {
   "cell_type": "code",
   "execution_count": null,
   "id": "75e95938",
   "metadata": {},
   "outputs": [],
   "source": [
    "def update_current_nonce_of_the_auth_contract(web3_contract, nonce_bytes, web3_http_provider):\n",
    "    # We use the default account to send the transaction (e.g., the first account in the HD wallet)\n",
    "    tx_hash = web3_contract.functions.update_current_nonce(nonce_bytes).transact()\n",
    "    tx_receipt = web3_http_provider.eth.wait_for_transaction_receipt(tx_hash)\n",
    "    return tx_receipt"
   ]
  },
  {
   "cell_type": "code",
   "execution_count": null,
   "id": "77ad8345",
   "metadata": {},
   "outputs": [],
   "source": [
    "nullifier_nonceauth_contract = compile_and_deploy_authentication_contract('nullifier_nonceauth', 'NullifierNonceAuth', w3)\n",
    "update_current_merkle_root_of_the_auth_contract(nullifier_nonceauth_contract, user_nonce['public_statement']['merkle_tree_root'], w3)\n",
    "update_current_nonce_of_the_auth_contract(nullifier_nonceauth_contract, user_nonce['public_statement']['nonce'], w3)\n",
    "nullifier_nonceauth_proof, nullifier_nonceauth_inputs = parse_proof_output_json_into_contract_input('nullifier_nonceauth', format_nullifier_nonceauth_user_knowledge_into_zokrates_input_array, '/{public_statement[nonce_hex]}', user_nonce)\n",
    "send_authentication_request_using_designated_agent(w3, nullifier_nonceauth_contract, nullifier_nonceauth_proof, nullifier_nonceauth_inputs, user_agent_account_address_hex)"
   ]
  },
  {
   "cell_type": "markdown",
   "id": "946bde2c",
   "metadata": {},
   "source": [
    "## Nullifier RandomAuth\n",
    "We implement the replay attack prevention from the work of Huang et. al., the AASmartCity, which use the same nullifier technique as the AnonParking implementation. We remind that this is not the whole implementation but only the replay attack part, combined with our membership authentication style."
   ]
  },
  {
   "cell_type": "code",
   "execution_count": null,
   "id": "3637521c",
   "metadata": {},
   "outputs": [],
   "source": [
    "compile_zokrates_script('nullifier_randomauth')"
   ]
  },
  {
   "cell_type": "code",
   "execution_count": null,
   "id": "49f2fee3",
   "metadata": {},
   "outputs": [],
   "source": [
    "generate_proving_verification_key_with_trusted_setup('nullifier_randomauth')"
   ]
  },
  {
   "cell_type": "code",
   "execution_count": null,
   "id": "d7faa675",
   "metadata": {},
   "outputs": [],
   "source": [
    "generate_verification_contract_from_verification_key('nullifier_randomauth')"
   ]
  },
  {
   "cell_type": "code",
   "execution_count": null,
   "id": "45dbf0fa",
   "metadata": {},
   "outputs": [],
   "source": [
    "check_keys_size('nullifier_randomauth')"
   ]
  },
  {
   "cell_type": "code",
   "execution_count": null,
   "id": "47c58e62",
   "metadata": {},
   "outputs": [],
   "source": [
    "def compile_user_knowledge_nullifier_randomauth(public_key_set, private_key, public_key, public_key_index, aid_hex):\n",
    "    merkle_tree = calculate_merkle_tree(public_key_set)\n",
    "    merkle_tree_root = merkle_tree[DEPTH][0]\n",
    "    aid_bytes_array = convert_bytes20_hex_to_bytes(aid_hex)\n",
    "    user = {\n",
    "        'public_statement': {\n",
    "            'merkle_tree_root': merkle_tree_root,\n",
    "            'aid': aid_bytes_array,\n",
    "            'aid_hex': aid_bytes_array.hex()\n",
    "        },\n",
    "        'private_witness': {\n",
    "            'private_key': private_key,\n",
    "            'public_key': public_key,\n",
    "            'direction_selector': calculate_direction_selector(public_key_index, DEPTH),\n",
    "            'path': calculate_path(public_key_index, DEPTH, merkle_tree),\n",
    "            'digested_value': calculate_digested_value(private_key,aid_bytes_array),\n",
    "        }\n",
    "    }\n",
    "    return user\n",
    "\n",
    "def format_nullifier_randomauth_user_knowledge_into_zokrates_input_array(user):\n",
    "    zokrates_input = [\n",
    "        convert_bytes_array_to_u32_string_array(user['public_statement']['merkle_tree_root']),\n",
    "        convert_bytes_array_to_u32_string_array(user['public_statement']['aid']),\n",
    "        convert_bytes_array_to_u32_string_array(user['private_witness']['private_key']),\n",
    "        convert_bytes_array_to_u32_string_array(user['private_witness']['public_key']),\n",
    "        user['private_witness']['direction_selector'],\n",
    "        [convert_bytes_array_to_u32_string_array(bytes_array) for bytes_array in user['private_witness']['path']],\n",
    "        convert_bytes_array_to_u32_string_array(user['private_witness']['digested_value']),\n",
    "    ]\n",
    "    return zokrates_input"
   ]
  },
  {
   "cell_type": "code",
   "execution_count": null,
   "id": "aca0f6a5",
   "metadata": {},
   "outputs": [],
   "source": [
    "# Generate random nullifier that we use as authentication ID\n",
    "authentication_id = random.getrandbits(160)\n",
    "aid_hex = authentication_id.to_bytes(20, \"big\").hex()\n",
    "assert(authentication_id==int(aid_hex,16))\n",
    "user_random = compile_user_knowledge_nullifier_randomauth(\n",
    "    administrator_public_key_list, \n",
    "    user_private_key, \n",
    "    user_public_key,  \n",
    "    user_public_key_index, \n",
    "    aid_hex)\n",
    "user_random"
   ]
  },
  {
   "cell_type": "code",
   "execution_count": null,
   "id": "84cce4ff-218b-43dd-9345-6c464e30a2cb",
   "metadata": {},
   "outputs": [],
   "source": [
    "generate_proof_from_user_knowledge('nullifier_randomauth', format_nullifier_randomauth_user_knowledge_into_zokrates_input_array, '/{public_statement[aid_hex]}', user_random)"
   ]
  },
  {
   "cell_type": "code",
   "execution_count": null,
   "id": "51707a18",
   "metadata": {},
   "outputs": [],
   "source": [
    "verify_generated_proof_with_verification_key('nullifier_randomauth', '/{public_statement[aid_hex]}', user_random)"
   ]
  },
  {
   "cell_type": "code",
   "execution_count": null,
   "id": "128b749b",
   "metadata": {},
   "outputs": [],
   "source": [
    "nullifier_randomauth_contract = compile_and_deploy_authentication_contract('nullifier_randomauth', 'NullifierRandomAuth', w3)\n",
    "update_current_merkle_root_of_the_auth_contract(nullifier_randomauth_contract, user_random['public_statement']['merkle_tree_root'], w3)\n",
    "nullifier_randomauth_proof, nullifier_randomauth_inputs = parse_proof_output_json_into_contract_input('nullifier_randomauth', format_nullifier_randomauth_user_knowledge_into_zokrates_input_array, '/{public_statement[aid_hex]}', user_random)\n",
    "send_authentication_request_using_designated_agent(w3, nullifier_randomauth_contract, nullifier_randomauth_proof, nullifier_randomauth_inputs, user_agent_account_address_hex)"
   ]
  },
  {
   "cell_type": "markdown",
   "id": "c9b2e4fe",
   "metadata": {},
   "source": [
    "## Nullifier PseudoAuth\n",
    "We implement the replay attack prevention from the work of Luong et. al., the PseudoAuth, which is also a nullifier technique. However, unlike the other authentication scheme, each User may only submit their zero-knowledge proof once to authenticate their blockchain account. This blockchain account is the Pseudonym, an authenticated blockchain account, which can be used by the User to access all kind functionality in the smart contract.\n",
    "\n",
    "There are some difference however on how the nullifier is calculated in this work. We implement the work using the following calculation."
   ]
  },
  {
   "cell_type": "code",
   "execution_count": null,
   "id": "779cdda3",
   "metadata": {},
   "outputs": [],
   "source": [
    "def compile_user_knowledge_nullifier_pseudoauth(public_key_set, private_key, public_key, public_key_index, nullifier):\n",
    "    merkle_tree = calculate_merkle_tree(public_key_set)\n",
    "    merkle_tree_root = merkle_tree[DEPTH][0]\n",
    "    user = {\n",
    "        'public_statement': {\n",
    "            'merkle_tree_root': merkle_tree_root,\n",
    "            'nullifier': nullifier,\n",
    "            'nullifier_hex': nullifier.hex(),\n",
    "        },\n",
    "        'private_witness': {\n",
    "            'private_key': private_key,\n",
    "            'public_key': public_key,\n",
    "            'direction_selector': calculate_direction_selector(public_key_index, DEPTH),\n",
    "            'path': calculate_path(public_key_index, DEPTH, merkle_tree),\n",
    "        }\n",
    "    }\n",
    "    return user\n",
    "\n",
    "def format_nullifier_pseudoauth_user_knowledge_into_zokrates_input_array(user):\n",
    "    zokrates_input = [\n",
    "        convert_bytes_array_to_u32_string_array(user['public_statement']['merkle_tree_root']),\n",
    "        convert_bytes_array_to_u32_string_array(user['public_statement']['nullifier']),\n",
    "        convert_bytes_array_to_u32_string_array(user['private_witness']['private_key']),\n",
    "        convert_bytes_array_to_u32_string_array(user['private_witness']['public_key']),\n",
    "        user['private_witness']['direction_selector'],\n",
    "        [convert_bytes_array_to_u32_string_array(bytes_array) for bytes_array in user['private_witness']['path']],\n",
    "    ]\n",
    "    return zokrates_input"
   ]
  },
  {
   "cell_type": "code",
   "execution_count": null,
   "id": "517f4893",
   "metadata": {},
   "outputs": [],
   "source": [
    "nullifier = hashlib.sha256(user_private_key+int(1).to_bytes(int(256/8),\"big\")).digest()\n",
    "user_pseudo = compile_user_knowledge_nullifier_pseudoauth(\n",
    "    administrator_public_key_list, \n",
    "    user_private_key, \n",
    "    user_public_key,  \n",
    "    user_public_key_index,\n",
    "    nullifier)\n",
    "user_pseudo"
   ]
  },
  {
   "cell_type": "code",
   "execution_count": null,
   "id": "ec775c9d",
   "metadata": {},
   "outputs": [],
   "source": [
    "compile_zokrates_script('nullifier_pseudoauth')"
   ]
  },
  {
   "cell_type": "code",
   "execution_count": null,
   "id": "e77d7dda",
   "metadata": {},
   "outputs": [],
   "source": [
    "generate_proving_verification_key_with_trusted_setup('nullifier_pseudoauth')"
   ]
  },
  {
   "cell_type": "code",
   "execution_count": null,
   "id": "39740758",
   "metadata": {},
   "outputs": [],
   "source": [
    "generate_verification_contract_from_verification_key('nullifier_pseudoauth')"
   ]
  },
  {
   "cell_type": "code",
   "execution_count": null,
   "id": "a1c8cd06",
   "metadata": {},
   "outputs": [],
   "source": [
    "check_keys_size('nullifier_pseudoauth')"
   ]
  },
  {
   "cell_type": "code",
   "execution_count": null,
   "id": "258d658f",
   "metadata": {},
   "outputs": [],
   "source": [
    "generate_proof_from_user_knowledge('nullifier_pseudoauth',format_nullifier_pseudoauth_user_knowledge_into_zokrates_input_array,'/{public_statement[nullifier_hex]}',user_pseudo)"
   ]
  },
  {
   "cell_type": "code",
   "execution_count": null,
   "id": "3e0a9a75",
   "metadata": {},
   "outputs": [],
   "source": [
    "verify_generated_proof_with_verification_key('nullifier_pseudoauth','/{public_statement[nullifier_hex]}',user_pseudo)"
   ]
  },
  {
   "cell_type": "code",
   "execution_count": null,
   "id": "5f25422f",
   "metadata": {},
   "outputs": [],
   "source": [
    "nullifier_pseudoauth_contract = compile_and_deploy_authentication_contract('nullifier_pseudoauth', 'NullifierPseudoAuth', w3)\n",
    "update_current_merkle_root_of_the_auth_contract(nullifier_pseudoauth_contract, user['public_statement']['merkle_tree_root'], w3)\n",
    "nullifier_pseudoauth_proof, nullifier_pseudoauth_inputs = parse_proof_output_json_into_contract_input('nullifier_pseudoauth',format_nullifier_pseudoauth_user_knowledge_into_zokrates_input_array,'/{public_statement[nullifier_hex]}',user_pseudo)\n",
    "send_authentication_request_using_designated_agent(w3, nullifier_pseudoauth_contract, nullifier_pseudoauth_proof, nullifier_pseudoauth_inputs, user_agent_account_address_hex)"
   ]
  },
  {
   "cell_type": "markdown",
   "id": "7f0883d2",
   "metadata": {},
   "source": [
    "## Nullifier TokenAuth\n",
    "We implement the work from the Token-based Authentication Scheme. \n",
    "\n",
    "In order to authenticate, the User need to submit the following value into the smart contract:\n",
    "- Merkle Root `rt`\n",
    "- Serial Number `sn` (served as a flag to check if the proof is still valid or not)\n",
    "- Capability Token Commitment `cm`\n",
    "- Word Commitment `wm` (served as a nullifier in this scheme)\n",
    "- zero-knowledge proof of Token Ownership\n",
    "\n",
    "To prove they have appropriate token, the User need to hold the following private information:\n",
    "- zeroToken `t` that comprise of:\n",
    "    - User Public key `a_pk`, which we renamed to `public_key`\n",
    "    - Capability Token `cm` (used as the public statement)\n",
    "    - `rho` as the private value of `sn`\n",
    "    - and `r` as private value of `tm`\n",
    "    - zeroToken Commitment `tm` (the leaf index in the Merkle Tree, proven using set-membership proof)\n",
    "- User Private key `a_sk`, which we renamed to `private_key`\n",
    "- secret word `w` (served as the private value of `wm`)\n",
    "\n",
    "For simplicity, we assume that all of the previous values have 256-bit length.\n",
    "\n",
    "We assume that each user is given a token by the administrator.\n",
    "\n",
    "There will be multiple sets that we need to track in our experiment, which have the length of the total amount of token exists:\n",
    "- `cm_set`: Consists of all Capability token from all users. \n",
    "- `rho_set`: Consists of all random value of `sn` from all users. Unlike the other set, the length of this set would grow if there is a delegation process occur.\n",
    "- `r_set`: Consists of all random value of `tm` from all users. \n",
    "- `tm_set`: Consists of all zeroToken commitment from all users. \n",
    "\n",
    "\n",
    "We begin our implementation by creating a pair of User private key `a_sk` and its public key `a_pk`, which is also identical to our work."
   ]
  },
  {
   "cell_type": "code",
   "execution_count": null,
   "id": "3d03275e",
   "metadata": {},
   "outputs": [],
   "source": [
    "# Get a random private key and public key\n",
    "random_user_leaf = pick_random_index_from_merkle_tree()\n",
    "a_sk = hidden_private_key_list[random_user_leaf]\n",
    "a_pk = administrator_public_key_list[random_user_leaf]\n",
    "(a_sk,a_pk)"
   ]
  },
  {
   "cell_type": "markdown",
   "id": "940673eb",
   "metadata": {},
   "source": [
    "This work also use the nullifier technique to prevent replay attack, which in their work they called as Word Commitment. The word commitment value is always random on each authentication session, thus an identical word commitment value implies replayed proof.\n",
    "\n",
    "We calculate Word Commitment `wm` with the following calculation:\n",
    "- `wm = SHA256(k')`\n",
    "- where `k_prime` is:\n",
    "    - `k_prime = SHA256(a_sk, w)`\n",
    "    - where `a_sk` and `w` is the User private key and random nullifier value respectively."
   ]
  },
  {
   "cell_type": "code",
   "execution_count": null,
   "id": "c9d0e019",
   "metadata": {},
   "outputs": [],
   "source": [
    "# Get a random 256-bit value for the random nullifier w\n",
    "# This value is new on every authentication requests\n",
    "w = random.getrandbits(256).to_bytes(int(256/8),\"big\")\n",
    "k_prime = hashlib.sha256(a_sk+w).digest()\n",
    "wm = hashlib.sha256(k_prime+int(0).to_bytes(32,\"big\")).digest()\n",
    "wm"
   ]
  },
  {
   "cell_type": "markdown",
   "id": "35cc687a",
   "metadata": {},
   "source": [
    "Due to this work delegation technique, we also need to make sure that the token is not delegated yet, which can be checked using the Serial Number `sn`.\n",
    "\n",
    "We calculate the value `sn` using the following formula: `sn = SHA256(rho, a_sk)`, where rho is a random number attached to the token."
   ]
  },
  {
   "cell_type": "code",
   "execution_count": null,
   "id": "29ae6931",
   "metadata": {},
   "outputs": [],
   "source": [
    "# Get a random 256-bit value for the rho\n",
    "# This value is not changed if the token is not delegated\n",
    "rho_set = [random.getrandbits(256).to_bytes(int(256/8),\"big\") for x in range(2**DEPTH)]\n",
    "rho = rho_set[random_user_leaf]\n",
    "sn = hashlib.sha256(rho+a_sk).digest()\n",
    "sn"
   ]
  },
  {
   "cell_type": "markdown",
   "id": "8872d27b",
   "metadata": {},
   "source": [
    "In the original work, the CapToken Commitment value is calculated as follow:\n",
    "- cm = SHA256(capToken||rn), where:\n",
    "    - capToken is a tuple containing (object, resource, action)\n",
    "    - rn is a random value\n",
    "\n",
    "The administrator is the only entity that can issued a token. \n",
    "\n",
    "This capability token will be accumulated using a merkle tree after converted into a zeroToken commitment `tm`.\n",
    "\n",
    "The amount of token and the amount of user in the system may be different from each other.\n",
    "\n",
    "We create the dummy version of Capability Token Commitment `cm` using the following code. "
   ]
  },
  {
   "cell_type": "code",
   "execution_count": null,
   "id": "714718a8",
   "metadata": {},
   "outputs": [],
   "source": [
    "# We create a dummy CapToken Commitment cm using 256-bit data instead of using the original calculation\n",
    "# This value is generated by the adminsistrator\n",
    "cm_set = [random.getrandbits(256).to_bytes(int(256/8),\"big\") for x in range(2**DEPTH)]\n",
    "cm = cm_set[random_user_leaf]"
   ]
  },
  {
   "cell_type": "markdown",
   "id": "fbc2e357",
   "metadata": {},
   "source": [
    "In the literature, the zeroToken Commitment `tm` is calculated using the following calculation:\n",
    "- `tm = SHA256(cm,k)`\n",
    "    - where k is\n",
    "        - `k = SHA256(a_pk, rho, r)`\n",
    "        \n",
    "However, due to how SHA256 require 512-bit input, we additionally hash both `rho` and `r` into an intermediate value that has a 256-bit length, and concat this value into `a_pk` to achieve 512-bit length input. Here are our own interpretation of the `k` value:\n",
    "- `k = SHA256(a_pk, SHA256(rho,r))`\n",
    "\n",
    "We calculate the `tm` value using the following code."
   ]
  },
  {
   "cell_type": "code",
   "execution_count": null,
   "id": "af49fd76",
   "metadata": {},
   "outputs": [],
   "source": [
    "# Get a random 256-bit value for the r\n",
    "r_set = [random.getrandbits(256).to_bytes(int(256/8),\"big\") for x in range(2**DEPTH)]\n",
    "tm_set = []\n",
    "for leaf in range(2**DEPTH):\n",
    "    r = r_set[leaf]\n",
    "    intermediate_rho_r = hashlib.sha256(rho_set[leaf]+r_set[leaf]).digest()\n",
    "    k = hashlib.sha256(administrator_public_key_list[leaf]+intermediate_rho_r).digest()\n",
    "    tm = hashlib.sha256(cm_set[leaf]+k).digest()\n",
    "    tm_set.append(tm)\n",
    "\n",
    "tm_set"
   ]
  },
  {
   "cell_type": "code",
   "execution_count": null,
   "id": "c51ed2fb",
   "metadata": {},
   "outputs": [],
   "source": [
    "def compile_user_knowledge_nullifier_tokenauth(private_key, public_key, zerotoken_comm_set, zerotoken_comm_index, serial_number, captoken_comm, word_comm, token_rho, token_r, token_w):\n",
    "    merkle_tree = calculate_merkle_tree(zerotoken_comm_set)\n",
    "    merkle_tree_root = merkle_tree[DEPTH][0]\n",
    "    user = {\n",
    "        'public_statement': {\n",
    "            'merkle_tree_root': merkle_tree_root,\n",
    "            'sn': serial_number,\n",
    "            'cm': captoken_comm,\n",
    "            'wm': word_comm,\n",
    "            'wm_hex': word_comm.hex(),\n",
    "        },\n",
    "        'private_witness': {\n",
    "            'private_key': private_key, #a_sk\n",
    "            'public_key': public_key, #a_pk\n",
    "            'rho': token_rho, # not randomize on every request\n",
    "            'r': token_r, # \n",
    "            'tm': zerotoken_comm_set[zerotoken_comm_index],\n",
    "            'w': token_w,\n",
    "            'direction_selector': calculate_direction_selector(zerotoken_comm_index, DEPTH),\n",
    "            'path': calculate_path(zerotoken_comm_index, DEPTH, merkle_tree),\n",
    "        }\n",
    "    }\n",
    "    return user"
   ]
  },
  {
   "cell_type": "code",
   "execution_count": null,
   "id": "1399a3b2",
   "metadata": {},
   "outputs": [],
   "source": [
    "user_nullifier_tokenauth = compile_user_knowledge_nullifier_tokenauth(a_sk, a_pk, tm_set, random_user_leaf, sn, cm_set[random_user_leaf], wm, rho_set[random_user_leaf], r_set[random_user_leaf], w)\n",
    "user_nullifier_tokenauth"
   ]
  },
  {
   "cell_type": "code",
   "execution_count": null,
   "id": "cde3fc65",
   "metadata": {},
   "outputs": [],
   "source": [
    "def format_nullifier_tokenauth_user_knowledge_into_zokrates_input_array(user):\n",
    "    zokrates_input = [\n",
    "        convert_bytes_array_to_u32_string_array(user['public_statement']['merkle_tree_root']),\n",
    "        convert_bytes_array_to_u32_string_array(user['public_statement']['sn']),\n",
    "        convert_bytes_array_to_u32_string_array(user['public_statement']['cm']),\n",
    "        convert_bytes_array_to_u32_string_array(user['public_statement']['wm']),\n",
    "        convert_bytes_array_to_u32_string_array(user['private_witness']['private_key']),\n",
    "        convert_bytes_array_to_u32_string_array(user['private_witness']['public_key']),\n",
    "        convert_bytes_array_to_u32_string_array(user['private_witness']['rho']),\n",
    "        convert_bytes_array_to_u32_string_array(user['private_witness']['r']),\n",
    "        convert_bytes_array_to_u32_string_array(user['private_witness']['tm']),\n",
    "        convert_bytes_array_to_u32_string_array(user['private_witness']['w']),\n",
    "        user['private_witness']['direction_selector'],\n",
    "        [convert_bytes_array_to_u32_string_array(bytes_array) for bytes_array in user['private_witness']['path']],\n",
    "    ]\n",
    "    return zokrates_input"
   ]
  },
  {
   "cell_type": "code",
   "execution_count": null,
   "id": "a22e1dee",
   "metadata": {},
   "outputs": [],
   "source": [
    "compile_zokrates_script('nullifier_tokenauth')"
   ]
  },
  {
   "cell_type": "code",
   "execution_count": null,
   "id": "fd89433e",
   "metadata": {},
   "outputs": [],
   "source": [
    "generate_proving_verification_key_with_trusted_setup('nullifier_tokenauth')"
   ]
  },
  {
   "cell_type": "code",
   "execution_count": null,
   "id": "373b7640",
   "metadata": {},
   "outputs": [],
   "source": [
    "generate_verification_contract_from_verification_key('nullifier_tokenauth')"
   ]
  },
  {
   "cell_type": "code",
   "execution_count": null,
   "id": "a0a4d299",
   "metadata": {},
   "outputs": [],
   "source": [
    "check_keys_size('nullifier_tokenauth')"
   ]
  },
  {
   "cell_type": "code",
   "execution_count": null,
   "id": "0cc39f2d",
   "metadata": {},
   "outputs": [],
   "source": [
    "generate_proof_from_user_knowledge('nullifier_tokenauth',format_nullifier_tokenauth_user_knowledge_into_zokrates_input_array,'/{public_statement[wm_hex]}',user_nullifier_tokenauth)"
   ]
  },
  {
   "cell_type": "code",
   "execution_count": null,
   "id": "1ad1ff94",
   "metadata": {},
   "outputs": [],
   "source": [
    "verify_generated_proof_with_verification_key('nullifier_tokenauth','/{public_statement[wm_hex]}',user_nullifier_tokenauth)"
   ]
  },
  {
   "cell_type": "code",
   "execution_count": null,
   "id": "467527ab",
   "metadata": {
    "editable": true,
    "slideshow": {
     "slide_type": ""
    },
    "tags": []
   },
   "outputs": [],
   "source": [
    "nullifier_tokenauth_contract = compile_and_deploy_authentication_contract('nullifier_tokenauth', 'NullifierTokenAuth', w3)\n",
    "update_current_merkle_root_of_the_auth_contract(nullifier_tokenauth_contract, user_nullifier_tokenauth['public_statement']['merkle_tree_root'], w3)\n",
    "nullifier_tokenauth_proof, nullifier_tokenauth_inputs = parse_proof_output_json_into_contract_input('nullifier_tokenauth',format_nullifier_tokenauth_user_knowledge_into_zokrates_input_array,'/{public_statement[wm_hex]}',user_nullifier_tokenauth)\n",
    "send_authentication_request_using_designated_agent(w3, nullifier_tokenauth_contract, nullifier_tokenauth_proof, nullifier_tokenauth_inputs, user_agent_account_address_hex)"
   ]
  },
  {
   "cell_type": "markdown",
   "id": "93d07a33-0315-48dc-a911-8d47eecf0cb8",
   "metadata": {},
   "source": [
    "## Delegatable NPAuth\n",
    "\n",
    "This is a variant of NPAuth where we can assign an authentication proof to another blockchain account. It is important however to incorporate nullifier technique in this work, as we need a way to make the account is used in a limited manner. "
   ]
  },
  {
   "cell_type": "code",
   "execution_count": null,
   "id": "57d9b46d-6c1c-4ed9-b77c-65b1d3d67122",
   "metadata": {},
   "outputs": [],
   "source": [
    "compile_zokrates_script('delegatable_npauth')"
   ]
  },
  {
   "cell_type": "code",
   "execution_count": null,
   "id": "12c30fd2-60e7-43c4-be93-2e390bc4c0f0",
   "metadata": {},
   "outputs": [],
   "source": [
    "generate_proving_verification_key_with_trusted_setup('delegatable_npauth')"
   ]
  },
  {
   "cell_type": "code",
   "execution_count": null,
   "id": "dba876a0-16c7-4f08-8618-0bffd44ae0ea",
   "metadata": {},
   "outputs": [],
   "source": [
    "generate_verification_contract_from_verification_key('delegatable_npauth')"
   ]
  },
  {
   "cell_type": "code",
   "execution_count": null,
   "id": "b128babc-5295-46f7-9064-c1008c683ed1",
   "metadata": {},
   "outputs": [],
   "source": [
    "check_keys_size('delegatable_npauth')"
   ]
  },
  {
   "cell_type": "code",
   "execution_count": null,
   "id": "891de804-cd32-45ef-8c73-9ebef9126fc8",
   "metadata": {},
   "outputs": [],
   "source": [
    "compile_user_knowledge_delegatable_npauth = compile_user_knowledge_npauth\n",
    "format_delegatable_npauth_user_knowledge_into_zokrates_input_array = format_npauth_user_knowledge_into_zokrates_input_array\n",
    "user_delegatable_npauth = user_npauth\n",
    "delegatable_npauth_agent_account_address_hex = user_agent_account_address_hex"
   ]
  },
  {
   "cell_type": "code",
   "execution_count": null,
   "id": "29fdd9f8-b685-4d66-9395-75f309aa277a",
   "metadata": {},
   "outputs": [],
   "source": [
    "generate_proof_from_user_knowledge('delegatable_npauth', format_delegatable_npauth_user_knowledge_into_zokrates_input_array, '/{public_statement[agent_account_address_hex]}', user_delegatable_npauth)"
   ]
  },
  {
   "cell_type": "code",
   "execution_count": null,
   "id": "109c2109-b48b-4fd8-a38d-ec2c3fcc707c",
   "metadata": {},
   "outputs": [],
   "source": [
    "verify_generated_proof_with_verification_key('delegatable_npauth','/{public_statement[agent_account_address_hex]}',user_delegatable_npauth)"
   ]
  },
  {
   "cell_type": "code",
   "execution_count": null,
   "id": "6f142c0d-4039-4339-980d-47a8298b3849",
   "metadata": {},
   "outputs": [],
   "source": [
    "delegatable_npauth_contract = compile_and_deploy_authentication_contract('delegatable_npauth', 'DelegatableNPAuth', w3)\n",
    "update_current_merkle_root_of_the_auth_contract(delegatable_npauth_contract, user_delegatable_npauth['public_statement']['merkle_tree_root'], w3)\n",
    "delegatable_npauth_proof, delegatable_npauth_inputs = parse_proof_output_json_into_contract_input('delegatable_npauth',format_delegatable_npauth_user_knowledge_into_zokrates_input_array,'/{public_statement[agent_account_address_hex]}',user_delegatable_npauth)\n",
    "send_authentication_request_using_designated_agent(w3, delegatable_npauth_contract, delegatable_npauth_proof, delegatable_npauth_inputs, delegatable_npauth_agent_account_address_hex)"
   ]
  },
  {
   "cell_type": "markdown",
   "id": "be343343",
   "metadata": {
    "editable": true,
    "slideshow": {
     "slide_type": ""
    },
    "tags": []
   },
   "source": [
    "# Measuring the Performance of All Authentication Schemes\n",
    "\n",
    "In this section, we aim to compare the following performance from the previous schemes:\n",
    "- Size Measurement\n",
    "- Time Measurement\n",
    "- Monetary Cost Measurement\n",
    "\n",
    "For the time measurement, we aim to measure the following metrics:\n",
    "- Compile Time\n",
    "- Setup Time\n",
    "- Proving Time\n",
    "- Verification Time\n",
    "\n",
    "For the monetary cost measurement, we aim to measure the following metrics:\n",
    "- Replay Attack Prevention Execution Gas Cost\n",
    "- Deployment Gas Cost\n",
    "- Statement Check Gas Cost\n",
    "- Verification Check Gas Cost\n",
    "- Authentication Gas Cost"
   ]
  },
  {
   "cell_type": "code",
   "execution_count": null,
   "id": "bb22b169",
   "metadata": {},
   "outputs": [],
   "source": [
    "from ttictoc import tic, toc\n",
    "# We will order the scheme based on our table in the manuscript\n",
    "# The following list consists of each scheme and its class name as a tuple\n",
    "SCHEME_DICTIONARY = {\n",
    "    'hashauth': {\n",
    "        'compile_function': compile_user_knowledge_hashauth,\n",
    "        'format_function': format_hashauth_user_knowledge_into_zokrates_input_array,\n",
    "        'proof_subdirectory_path': '/{public_statement[random]}',\n",
    "        'class_name': 'HashAuth',\n",
    "        'dummy_knowledge': user_hashauth,\n",
    "        'dummy_agent_hex': user_agent_account_address_hex,\n",
    "        'display_name': 'HashAuth',\n",
    "    },\n",
    "    'nullifier_nonceauth': {\n",
    "        'compile_function': compile_user_knowledge_nullifier_nonceauth,\n",
    "        'format_function': format_nullifier_nonceauth_user_knowledge_into_zokrates_input_array,\n",
    "        'proof_subdirectory_path': '/{public_statement[nonce_hex]}',\n",
    "        'class_name': 'NullifierNonceAuth',\n",
    "        'dummy_knowledge': user_nonce,\n",
    "        'dummy_agent_hex': user_agent_account_address_hex,\n",
    "        'display_name': 'NonceAuth',\n",
    "    },\n",
    "    'nullifier_randomauth': {\n",
    "        'compile_function': compile_user_knowledge_nullifier_randomauth,\n",
    "        'format_function': format_nullifier_randomauth_user_knowledge_into_zokrates_input_array,\n",
    "        'proof_subdirectory_path': '/{public_statement[aid_hex]}',\n",
    "        'class_name': 'NullifierRandomAuth',\n",
    "        'dummy_knowledge': user_random,\n",
    "        'dummy_agent_hex': user_agent_account_address_hex,\n",
    "        'display_name': 'RandomAuth',\n",
    "    },\n",
    "    'npauth': {\n",
    "        'compile_function': compile_user_knowledge_npauth,\n",
    "        'format_function': format_npauth_user_knowledge_into_zokrates_input_array,\n",
    "        'proof_subdirectory_path': '/{public_statement[agent_account_address_hex]}',\n",
    "        'class_name': 'NPAuth',\n",
    "        'dummy_knowledge': user_npauth,\n",
    "        'dummy_agent_hex': user_agent_account_address_hex,\n",
    "        'display_name': 'NPAuth (Ours)',\n",
    "    },\n",
    "    'nullifier_pseudoauth': {\n",
    "        'compile_function': compile_user_knowledge_nullifier_pseudoauth,\n",
    "        'format_function': format_nullifier_pseudoauth_user_knowledge_into_zokrates_input_array,\n",
    "        'proof_subdirectory_path': '/{public_statement[nullifier_hex]}',\n",
    "        'class_name': 'NullifierPseudoAuth',\n",
    "        'dummy_knowledge': user_pseudo,\n",
    "        'dummy_agent_hex': user_agent_account_address_hex,\n",
    "        'display_name': 'PseudoAuth',\n",
    "    },\n",
    "    'nullifier_tokenauth': {\n",
    "        'compile_function': compile_user_knowledge_nullifier_tokenauth,\n",
    "        'format_function': format_nullifier_tokenauth_user_knowledge_into_zokrates_input_array,\n",
    "        'proof_subdirectory_path': '/{public_statement[wm_hex]}',\n",
    "        'class_name': 'NullifierTokenAuth',\n",
    "        'dummy_knowledge': user_nullifier_tokenauth,\n",
    "        'dummy_agent_hex': user_agent_account_address_hex,\n",
    "        'display_name': 'TokenAuth',\n",
    "    },\n",
    "    'delegatable_npauth': {\n",
    "        'compile_function': compile_user_knowledge_delegatable_npauth,\n",
    "        'format_function': format_delegatable_npauth_user_knowledge_into_zokrates_input_array,\n",
    "        'proof_subdirectory_path': '/{public_statement[agent_account_address_hex]}',\n",
    "        'class_name': 'DelegatableNPAuth',\n",
    "        'dummy_knowledge': user_delegatable_npauth,\n",
    "        'dummy_agent_hex': delegatable_npauth_agent_account_address_hex,\n",
    "        'display_name': 'Delegatable NPAuth (Ours)',\n",
    "    },\n",
    "}"
   ]
  },
  {
   "cell_type": "markdown",
   "id": "fcaad61f",
   "metadata": {},
   "source": [
    "## Size and Time Measurement\n",
    "In this subsection, we will begin with measuring the important size in each scheme.\n",
    "\n",
    "We aim to measure the following metrics for the size measurement:\n",
    "- Circuit Size\n",
    "- Proving Key Size\n",
    "- Verification Key Size\n",
    "\n",
    "For the time measurement, we aim to measure the following metrics:\n",
    "- Compile Time\n",
    "- Setup Time\n",
    "- Proving Time\n",
    "- Verification Time"
   ]
  },
  {
   "cell_type": "code",
   "execution_count": null,
   "id": "4de1c48f",
   "metadata": {},
   "outputs": [],
   "source": [
    "import pandas as pd\n",
    "def record_scheme_computation_time_and_size(filename_prefix, loop_amount, inner_loop_amount):\n",
    "    experiment_results = {}\n",
    "    os.system('mkdir -p '+'experiment_results/scheme_time_and_size/')\n",
    "    for scheme in SCHEME_DICTIONARY:\n",
    "        experiment_results[scheme]= {}\n",
    "        experiment_results[scheme]['loop_amount'] = loop_amount\n",
    "        experiment_results[scheme]['inner_loop_amount'] = inner_loop_amount\n",
    "        # Measuring Compile Time\n",
    "        experiment_results[scheme]['compile_time_list'] = []\n",
    "        for _ in range(loop_amount):\n",
    "            tic()\n",
    "            experiment_results[scheme]['circuit_size'] = compile_zokrates_script(scheme)\n",
    "            experiment_results[scheme]['compile_time_list'].append(toc())\n",
    "            \n",
    "        # Measuring Setup Time\n",
    "        experiment_results[scheme]['setup_time_list'] = []\n",
    "        for _ in range(loop_amount):\n",
    "            tic()\n",
    "            generate_proving_verification_key_with_trusted_setup(scheme)\n",
    "            experiment_results[scheme]['setup_time_list'].append(toc())\n",
    "\n",
    "        # Measuring Key Size\n",
    "        key_sizes = check_keys_size(scheme)\n",
    "        experiment_results[scheme]['proving_key_size'] = key_sizes[0]\n",
    "        experiment_results[scheme]['verification_key_size'] = key_sizes[1]\n",
    "\n",
    "        # Measuring Proving Time\n",
    "        experiment_results[scheme]['proving_time_list'] = []\n",
    "        for _ in range(loop_amount):\n",
    "            tic()\n",
    "            generate_proof_from_user_knowledge(\n",
    "                scheme, \n",
    "                SCHEME_DICTIONARY[scheme]['format_function'], \n",
    "                SCHEME_DICTIONARY[scheme]['proof_subdirectory_path'], \n",
    "                SCHEME_DICTIONARY[scheme]['dummy_knowledge'])\n",
    "            experiment_results[scheme]['proving_time_list'].append(toc())\n",
    "\n",
    "        # Measuring Verification Time\n",
    "        experiment_results[scheme]['verification_time_list'] = []\n",
    "        for _ in range(loop_amount):\n",
    "            tic()\n",
    "            for _ in range(inner_loop_amount):\n",
    "                verify_generated_proof_with_verification_key(\n",
    "                    scheme, \n",
    "                    SCHEME_DICTIONARY[scheme]['proof_subdirectory_path'], \n",
    "                    SCHEME_DICTIONARY[scheme]['dummy_knowledge'])\n",
    "            experiment_results[scheme]['verification_time_list'].append(toc()/inner_loop_amount)\n",
    "    with open('experiment_results/scheme_time_and_size/{0}_scheme_time_and_size.json'.format(filename_prefix), 'w') as f:\n",
    "            json.dump(experiment_results, f)"
   ]
  },
  {
   "cell_type": "code",
   "execution_count": null,
   "id": "a4f1fbde-02ed-42fa-966a-744e1d2c19f4",
   "metadata": {},
   "outputs": [],
   "source": [
    "# record_scheme_computation_time_and_size('experiment', 10, 1000)"
   ]
  },
  {
   "cell_type": "code",
   "execution_count": null,
   "id": "728a19eb-03ff-428f-bf4e-03c631aadbde",
   "metadata": {},
   "outputs": [],
   "source": [
    "def create_authentication_scheme_overview_table(filename_prefix):\n",
    "    df = pd.read_json('experiment_results/scheme_time_and_size/{0}_scheme_time_and_size.json'.format(filename_prefix))\n",
    "    df = df.transpose()\n",
    "    df = df.reset_index()\n",
    "    column_display_name = {\n",
    "        'circuit_size': 'Circuit Size (constraints)',\n",
    "        'transaction_payload': 'Proof Complexity',\n",
    "        'transaction_payload_size': 'Proof Size (Bytes)',\n",
    "        'proving_key_size': 'Proving Key Size (MB)',\n",
    "        'verification_key_size': 'Verification Key (KB)',\n",
    "    }\n",
    "    column_type = {\n",
    "        'circuit_size': 'int',\n",
    "        'transaction_payload': 'string',\n",
    "        'transaction_payload_size': 'int',\n",
    "        'proving_key_size': 'float64',\n",
    "        'verification_key_size': 'float64',\n",
    "    }\n",
    "    df['proving_key_size'] = df['proving_key_size']/1000000\n",
    "    df['verification_key_size'] = df['verification_key_size']/1000\n",
    "    scheme_display_name = {scheme:scheme_content['display_name'] for scheme, scheme_content in SCHEME_DICTIONARY.items()}\n",
    "    scheme_name_order = ['hashauth', 'nullifier_tokenauth', 'nullifier_nonceauth', 'nullifier_pseudoauth', 'nullifier_randomauth','npauth','delegatable_npauth']\n",
    "    df = df.set_index('index')\n",
    "    df = df.reindex(index=scheme_name_order, columns = [key for key,value in column_display_name.items()])\n",
    "    latex_string = {\n",
    "        'g_1': '$\\\\mathbb{G}_1$',\n",
    "        'g_2': '$\\\\mathbb{G}_1$',\n",
    "        'hashed_value': '$H$',\n",
    "        'c': '$c$',\n",
    "    }\n",
    "    transaction_payload_value = [\n",
    "        '{hashed_value}+(2{g_1}+{g_2})',\n",
    "        '4{hashed_value}+(2{g_1}+{g_2})',\n",
    "        '2{hashed_value}+(2{g_1}+{g_2})',\n",
    "        '{hashed_value}+{c}+(2{g_1}+{g_2})',\n",
    "        '{hashed_value}+{c}+(2{g_1}+{g_2})',\n",
    "        '{hashed_value}+{c}+(2{g_1}+{g_2})',\n",
    "        '{hashed_value}+{c}+(2{g_1}+{g_2})',\n",
    "    ]\n",
    "    transaction_payload_size_value = [\n",
    "        32+256,\n",
    "        128+256,\n",
    "        64+256,\n",
    "        52+256,\n",
    "        52+256,\n",
    "        52+256,\n",
    "        52+256,\n",
    "    ]\n",
    "    df = df.assign(\n",
    "        transaction_payload=[x.format(**latex_string) for x in transaction_payload_value], \n",
    "        transaction_payload_size = transaction_payload_size_value)    \n",
    "    df = df.astype(column_type)\n",
    "    df = df.rename(index=scheme_display_name, columns=column_display_name)\n",
    "    df = df.drop(['HashAuth','Delegatable NPAuth (Ours)'])\n",
    "    df.index.name = None\n",
    "    print(df.style.to_latex(hrules=True))\n",
    "    return df.style.format(precision=2, thousands=\",\", decimal=\".\")"
   ]
  },
  {
   "cell_type": "code",
   "execution_count": null,
   "id": "e1fc487e-c961-425e-8714-41d5a36e7359",
   "metadata": {},
   "outputs": [],
   "source": [
    "create_authentication_scheme_overview_table('experiment')"
   ]
  },
  {
   "cell_type": "code",
   "execution_count": null,
   "id": "d4b33f5e-b306-45da-a38f-629d2664cd2e",
   "metadata": {},
   "outputs": [],
   "source": [
    "def create_computation_time_table(filename_prefix):\n",
    "    df = pd.read_json('experiment_results/scheme_time_and_size/{0}_scheme_time_and_size.json'.format(filename_prefix))\n",
    "    df = df.transpose()\n",
    "    df = df.reset_index()\n",
    "    df =  df.explode(['compile_time_list','setup_time_list','proving_time_list','verification_time_list'])\n",
    "    agg_target = {\n",
    "        \"compile_time_list\": [\"mean\", \"std\"],\n",
    "        \"setup_time_list\": [\"mean\", \"std\"],\n",
    "        \"proving_time_list\": [\"mean\", \"std\"],\n",
    "        \"verification_time_list\": [\"mean\", \"std\"],\n",
    "    }\n",
    "    print(df['loop_amount'])\n",
    "    df = df.groupby(\"index\").agg(agg_target)\n",
    "\n",
    "\n",
    "    df = df*1000\n",
    "    df = df.map('{:,.2f}'.format)\n",
    "    \n",
    "    df['compile_time_mean_std'] = df['compile_time_list']['mean'] + ' $\\\\pm$ ' + df['compile_time_list']['std']\n",
    "    df['setup_time_mean_std'] = df['setup_time_list']['mean'] + ' $\\\\pm$ ' + df['setup_time_list']['std']\n",
    "    df['proving_time_mean_std'] = df['proving_time_list']['mean'] + ' $\\\\pm$ ' + df['proving_time_list']['std']\n",
    "    df['verification_time_mean_std'] = df['verification_time_list']['mean'] + ' $\\\\pm$ ' + df['verification_time_list']['std']\n",
    "    \n",
    "    column_display_name = {\n",
    "        'compile_time_mean_std': 'Compile Time (ms)',\n",
    "        'setup_time_mean_std': 'Setup Time (ms)',\n",
    "        'proving_time_mean_std': 'Proving Time (ms)',\n",
    "        'verification_time_mean_std': 'Verification Time (ms)',\n",
    "    }\n",
    "    scheme_display_name = {scheme:scheme_content['display_name'] for scheme, scheme_content in SCHEME_DICTIONARY.items()}\n",
    "    scheme_name_order = ['hashauth', 'nullifier_tokenauth', 'nullifier_nonceauth', 'nullifier_pseudoauth', 'nullifier_randomauth','npauth','delegatable_npauth']\n",
    "    df = df.reindex(index=scheme_name_order)\n",
    "    df = df[['compile_time_mean_std','setup_time_mean_std','proving_time_mean_std','verification_time_mean_std']]\n",
    "    df = df.rename(index=scheme_display_name, columns=column_display_name)\n",
    "    df = df.drop(['HashAuth','Delegatable NPAuth (Ours)'])\n",
    "    df.index.name = None\n",
    "    print(df.style.to_latex(hrules=True))\n",
    "    return df.style"
   ]
  },
  {
   "cell_type": "code",
   "execution_count": null,
   "id": "87845e67-76bc-496f-976c-dffba4751c6c",
   "metadata": {},
   "outputs": [],
   "source": [
    "create_computation_time_table('experiment')"
   ]
  },
  {
   "cell_type": "markdown",
   "id": "ebf366fd-ca1b-4bba-a05f-66df30ea2150",
   "metadata": {},
   "source": [
    "## Gas Cost Experiment\n",
    "\n",
    "In this experiment, we will record all the important operation gas cost for our scheme."
   ]
  },
  {
   "cell_type": "code",
   "execution_count": null,
   "id": "675321ba-a41f-46da-96b2-cb70935ff637",
   "metadata": {},
   "outputs": [],
   "source": [
    "def send_authentication_request_for_statement_check_using_designated_agent(web3_http_provider, deployed_contract, proof, inputs, designated_agent_address):\n",
    "    # We invoke a special function that are used for experiment only\n",
    "    tx_hash = deployed_contract.functions.statement_check_with_broadcast(proof, inputs).transact({\"from\": designated_agent_address})\n",
    "    tx_receipt = web3_http_provider.eth.wait_for_transaction_receipt(tx_hash)\n",
    "    return tx_receipt\n",
    "\n",
    "def send_authentication_request_for_verification_check_using_designated_agent(web3_http_provider, deployed_contract, proof, inputs, designated_agent_address):\n",
    "    # We invoke a special function that are used for experiment only\n",
    "    tx_hash = deployed_contract.functions.verification_with_broadcast(proof, inputs).transact({\"from\": designated_agent_address})\n",
    "    tx_receipt = web3_http_provider.eth.wait_for_transaction_receipt(tx_hash)\n",
    "    return tx_receipt\n",
    "\n",
    "def record_scheme_gas_cost(filename_prefix):\n",
    "    web3_http_provider = Web3(Web3.HTTPProvider(DEVELOPMENT_HTTP_PROVIDER_URL))\n",
    "    experiment_results = {}\n",
    "    for scheme in SCHEME_DICTIONARY:\n",
    "        experiment_results[scheme]= {}\n",
    "\n",
    "        # Initiatiation process\n",
    "        compile_zokrates_script(scheme)\n",
    "        generate_proving_verification_key_with_trusted_setup(scheme)\n",
    "        generate_verification_contract_from_verification_key(scheme)\n",
    "        \n",
    "        # Measuring Deploy Cost\n",
    "        scheme_contract, deploy_tx_receipt = compile_and_deploy_authentication_contract(scheme, SCHEME_DICTIONARY[scheme]['class_name'], web3_http_provider, True)\n",
    "        experiment_results[scheme]['deployment_gas_cost'] = deploy_tx_receipt['gasUsed']\n",
    "        update_current_merkle_root_of_the_auth_contract(\n",
    "            scheme_contract, \n",
    "            SCHEME_DICTIONARY[scheme]['dummy_knowledge']['public_statement']['merkle_tree_root'], \n",
    "            web3_http_provider)\n",
    "        if scheme == 'nullifier_nonceauth':\n",
    "            update_current_nonce_of_the_auth_contract(\n",
    "                scheme_contract, \n",
    "                SCHEME_DICTIONARY[scheme]['dummy_knowledge']['public_statement']['nonce'], \n",
    "                web3_http_provider)\n",
    "            \n",
    "        # Measuring Statement Check Cost\n",
    "        scheme_proof, scheme_inputs = parse_proof_output_json_into_contract_input(\n",
    "            scheme, \n",
    "            SCHEME_DICTIONARY[scheme]['format_function'], \n",
    "            SCHEME_DICTIONARY[scheme]['proof_subdirectory_path'], \n",
    "            SCHEME_DICTIONARY[scheme]['dummy_knowledge'])\n",
    "        experiment_results[scheme]['statement_check_gas_cost'] = send_authentication_request_for_statement_check_using_designated_agent(\n",
    "            web3_http_provider,\n",
    "            scheme_contract, \n",
    "            scheme_proof, \n",
    "            scheme_inputs, \n",
    "            SCHEME_DICTIONARY[scheme]['dummy_agent_hex'])['gasUsed']\n",
    "\n",
    "        # Measuring Verfication Check Cost\n",
    "        experiment_results[scheme]['verification_check_gas_cost'] = send_authentication_request_for_verification_check_using_designated_agent(\n",
    "            web3_http_provider,\n",
    "            scheme_contract, \n",
    "            scheme_proof, \n",
    "            scheme_inputs, \n",
    "            SCHEME_DICTIONARY[scheme]['dummy_agent_hex'])['gasUsed']\n",
    "\n",
    "        # Measuring Authentication Check Cost\n",
    "        scheme_contract = compile_and_deploy_authentication_contract(scheme, SCHEME_DICTIONARY[scheme]['class_name'], web3_http_provider)\n",
    "        update_current_merkle_root_of_the_auth_contract(\n",
    "            scheme_contract, \n",
    "            SCHEME_DICTIONARY[scheme]['dummy_knowledge']['public_statement']['merkle_tree_root'], \n",
    "            web3_http_provider)\n",
    "        if scheme == 'nullifier_nonceauth':\n",
    "            update_current_nonce_of_the_auth_contract(\n",
    "                scheme_contract, \n",
    "                SCHEME_DICTIONARY[scheme]['dummy_knowledge']['public_statement']['nonce'], \n",
    "                web3_http_provider)\n",
    "        experiment_results[scheme]['authentication_check_gas_cost'] = send_authentication_request_using_designated_agent(\n",
    "            web3_http_provider,\n",
    "            scheme_contract, \n",
    "            scheme_proof, \n",
    "            scheme_inputs, \n",
    "            SCHEME_DICTIONARY[scheme]['dummy_agent_hex'])['gasUsed']\n",
    "\n",
    "        # Measuring Authentication Fail Check Cost\n",
    "        scheme_contract = compile_and_deploy_authentication_contract(scheme, SCHEME_DICTIONARY[scheme]['class_name'], web3_http_provider)\n",
    "        update_current_merkle_root_of_the_auth_contract(\n",
    "            scheme_contract, \n",
    "            SCHEME_DICTIONARY[scheme]['dummy_knowledge']['public_statement']['merkle_tree_root'], \n",
    "            web3_http_provider)\n",
    "        if scheme == 'nullifier_nonceauth':\n",
    "            update_current_nonce_of_the_auth_contract(\n",
    "                scheme_contract, \n",
    "                SCHEME_DICTIONARY[scheme]['dummy_knowledge']['public_statement']['nonce'], \n",
    "                web3_http_provider)\n",
    "\n",
    "        _, scheme_fail_inputs = parse_proof_output_json_into_contract_input(\n",
    "            scheme, \n",
    "            SCHEME_DICTIONARY[scheme]['format_function'], \n",
    "            SCHEME_DICTIONARY[scheme]['proof_subdirectory_path'], \n",
    "            SCHEME_DICTIONARY[scheme]['dummy_knowledge'])\n",
    "        # We change the witness output to 0, making the witness value false, thus failing the check\n",
    "        scheme_fail_inputs[-1] = 0\n",
    "        experiment_results[scheme]['fail_authentication_check_gas_cost'] = send_authentication_request_using_designated_agent(\n",
    "            web3_http_provider,\n",
    "            scheme_contract, \n",
    "            scheme_proof, \n",
    "            scheme_fail_inputs, \n",
    "            SCHEME_DICTIONARY[scheme]['dummy_agent_hex'])['gasUsed']\n",
    "    os.system('mkdir -p '+ 'experiment_results/scheme_gas_cost/')\n",
    "    with open('experiment_results/scheme_gas_cost/{filename_prefix}_scheme_gas_cost.json'.format(filename_prefix=filename_prefix), 'w') as f:\n",
    "            json.dump(experiment_results, f)"
   ]
  },
  {
   "cell_type": "code",
   "execution_count": null,
   "id": "baa29cce-8329-4eac-8cb4-6320f2095545",
   "metadata": {},
   "outputs": [],
   "source": [
    "# record_scheme_gas_cost('experiment')"
   ]
  },
  {
   "cell_type": "code",
   "execution_count": null,
   "id": "3d8f6a8f-2ec7-44d4-a1ea-e90a94988f9e",
   "metadata": {},
   "outputs": [],
   "source": [
    "def create_authentication_scheme_gas_cost_table(filename_prefix):\n",
    "    df = pd.read_json('experiment_results/scheme_gas_cost/{filename_prefix}_scheme_gas_cost.json'.format(filename_prefix=filename_prefix))\n",
    "    df = df.transpose()\n",
    "    df = df.reset_index()\n",
    "    column_display_name = {\n",
    "        'deployment_gas_cost': 'Deployment',\n",
    "        'statement_check_gas_cost': 'Initial Check',\n",
    "        'verification_check_gas_cost': 'Proof Verification',\n",
    "        'authentication_check_gas_cost': 'Whole Authentication',\n",
    "        'fail_authentication_check_gas_cost': 'Fail Authentication',\n",
    "    }\n",
    "\n",
    "    scheme_display_name = {scheme:scheme_content['display_name'] for scheme, scheme_content in SCHEME_DICTIONARY.items()}\n",
    "    scheme_name_order = ['hashauth', 'nullifier_tokenauth', 'nullifier_nonceauth', 'nullifier_pseudoauth', 'nullifier_randomauth','npauth','delegatable_npauth']\n",
    "    df = df.set_index('index')\n",
    "    df = df.reindex(index=scheme_name_order, columns = [key for key,value in column_display_name.items()])\n",
    "    df = df.rename(index=scheme_display_name, columns=column_display_name)\n",
    "    df = df.drop(['HashAuth','Delegatable NPAuth (Ours)'])\n",
    "    df.index.name = None\n",
    "    return df.style.format(precision=2, thousands=\",\", decimal=\".\")"
   ]
  },
  {
   "cell_type": "code",
   "execution_count": null,
   "id": "06e2a892-22f4-4685-9088-c146dd893e1e",
   "metadata": {},
   "outputs": [],
   "source": [
    "print(create_authentication_scheme_gas_cost_table('experiment').to_latex(hrules=True))\n",
    "create_authentication_scheme_gas_cost_table('experiment')"
   ]
  },
  {
   "cell_type": "markdown",
   "id": "8c59fa19",
   "metadata": {},
   "source": [
    "# Real-World Performance Experiment\n",
    "\n",
    "We aim to measure all of our schemes against a high loaded traffic to test the latency of each schemes, which is reflected by the schemes scalability factor."
   ]
  },
  {
   "cell_type": "code",
   "execution_count": null,
   "id": "b2b0e1bf",
   "metadata": {},
   "outputs": [],
   "source": [
    "from concurrent.futures import ThreadPoolExecutor, as_completed, ProcessPoolExecutor\n",
    "from ttictoc import tic, toc\n",
    "import pandas as pd\n",
    "PRODUCTION_HTTP_PROVIDER_URL = 'http://127.0.0.1:8546'"
   ]
  },
  {
   "cell_type": "code",
   "execution_count": null,
   "id": "e915a748-2590-4c8e-887d-d6d6c35e36a4",
   "metadata": {},
   "outputs": [],
   "source": [
    "def send_authenticate_request(private_key, public_key, agent_address_hex, web3_http_provider, authentication_contract, scheme_name, misc_information={}):\n",
    "    user_knowledge_input = {\n",
    "        'private_key': private_key,\n",
    "        'public_key': public_key,\n",
    "    }\n",
    "    user_knowledge_input.update(misc_information)\n",
    "    user_knowledge = SCHEME_DICTIONARY[scheme_name]['compile_function'](**user_knowledge_input)\n",
    "    generate_proof_from_user_knowledge(\n",
    "        scheme_name, \n",
    "        SCHEME_DICTIONARY[scheme_name]['format_function'], \n",
    "        SCHEME_DICTIONARY[scheme_name]['proof_subdirectory_path'], \n",
    "        user_knowledge)\n",
    "    user_proof, user_inputs = parse_proof_output_json_into_contract_input(\n",
    "        scheme_name, \n",
    "        SCHEME_DICTIONARY[scheme_name]['format_function'], \n",
    "        SCHEME_DICTIONARY[scheme_name]['proof_subdirectory_path'], \n",
    "        user_knowledge)\n",
    "    return send_authentication_request_using_designated_agent(\n",
    "        web3_http_provider,\n",
    "        authentication_contract, \n",
    "        user_proof,user_inputs, \n",
    "        agent_address_hex)\n",
    "    "
   ]
  },
  {
   "cell_type": "code",
   "execution_count": null,
   "id": "03ec4c91-cfa7-4257-bb8a-53e4dfa55142",
   "metadata": {},
   "outputs": [],
   "source": [
    "def npauth_user_logic(user_index, private_key, public_key_set, user_prefunded_accounts, amount_of_devices, contract_address, contract_abi, max_tries):\n",
    "    print('User {user_index} attempting to access {amount_of_devices} devices using {user_prefunded_accounts}'.format(\n",
    "        user_index=user_index, \n",
    "        amount_of_devices = amount_of_devices, \n",
    "        user_prefunded_accounts=user_prefunded_accounts))\n",
    "    scheme_name = 'npauth'\n",
    "    user_web3_http_provider = Web3(Web3.HTTPProvider(PRODUCTION_HTTP_PROVIDER_URL))\n",
    "    authentication_contract = connect_to_contract(contract_address, contract_abi, user_web3_http_provider)\n",
    "    public_key = public_key_set[user_index]\n",
    "\n",
    "    # We record the following metrics for each user\n",
    "    return_value = {\n",
    "        'scheme_name': scheme_name,\n",
    "        'user_index': user_index,\n",
    "        'amount_of_devices': amount_of_devices,\n",
    "        'max_tries': max_tries,\n",
    "        'successful_authentication': 0,\n",
    "        'fail_authentication': 0,\n",
    "        'total_gas_cost': 0,\n",
    "        'total_time_elapsed': 0,\n",
    "        'authentication_logs': [],\n",
    "    }\n",
    "\n",
    "    for device_index in range(amount_of_devices):\n",
    "        tic()\n",
    "        current_authentication_gas_cost = 0\n",
    "        for _ in range(max_tries):\n",
    "            agent_address_hex = user_prefunded_accounts[device_index]\n",
    "            misc_information = {\n",
    "                'agent_account_address_hex': agent_address_hex,\n",
    "                'public_key_set': public_key_set,\n",
    "                'public_key_index': user_index\n",
    "            }\n",
    "            tx_receipt = send_authenticate_request(\n",
    "                private_key, \n",
    "                public_key, \n",
    "                agent_address_hex,\n",
    "                user_web3_http_provider,\n",
    "                authentication_contract,\n",
    "                scheme_name,\n",
    "                misc_information\n",
    "            )\n",
    "            return_value['total_gas_cost'] += tx_receipt['gasUsed']\n",
    "            current_authentication_gas_cost += tx_receipt['gasUsed']\n",
    "            if len(tx_receipt['logs'])==0:\n",
    "                print('User {user_index} fail to authenticate '.format(user_index=user_index))\n",
    "                return_value['fail_authentication'] += 1\n",
    "            else:\n",
    "                print('User {user_index} successful to authenticate '.format(user_index=user_index))\n",
    "                return_value['successful_authentication'] += 1\n",
    "                break\n",
    "        current_time_elapsed = toc()\n",
    "        return_value['authentication_logs'].append({\n",
    "            'authentication_gas_cost': current_authentication_gas_cost,\n",
    "            'authentication_time_elapsed': current_time_elapsed,\n",
    "        })\n",
    "        return_value['total_time_elapsed'] += current_time_elapsed\n",
    "\n",
    "    \n",
    "    print('User {user_index} authenticate {successful_authentication}/{amount_of_devices} devices using {scheme_name}'.format(**return_value))\n",
    "    return return_value"
   ]
  },
  {
   "cell_type": "code",
   "execution_count": null,
   "id": "3427b618-4d3d-4d80-83fd-6af05b2ed96b",
   "metadata": {},
   "outputs": [],
   "source": [
    "def hashauth_user_logic(user_index, private_key, public_key_set, user_prefunded_accounts, amount_of_devices, contract_address, contract_abi, max_tries):\n",
    "    print('User {user_index} attempting to access {amount_of_devices} devices using {user_prefunded_accounts}'.format(\n",
    "        user_index=user_index, \n",
    "        amount_of_devices = amount_of_devices, \n",
    "        user_prefunded_accounts=user_prefunded_accounts))\n",
    "    \n",
    "    scheme_name = 'hashauth'\n",
    "    user_web3_http_provider = Web3(Web3.HTTPProvider(PRODUCTION_HTTP_PROVIDER_URL))\n",
    "    authentication_contract = connect_to_contract(contract_address, contract_abi, user_web3_http_provider)\n",
    "    public_key = public_key_set[user_index]\n",
    "\n",
    "    # We record the following metrics for each user\n",
    "    return_value = {\n",
    "        'scheme_name': scheme_name,\n",
    "        'user_index': user_index,\n",
    "        'amount_of_devices': amount_of_devices,\n",
    "        'max_tries': max_tries,\n",
    "        'successful_authentication': 0,\n",
    "        'fail_authentication': 0,\n",
    "        'total_gas_cost': 0,\n",
    "        'total_time_elapsed': 0,\n",
    "        'authentication_logs': [],\n",
    "    }\n",
    "\n",
    "    tic()\n",
    "    for device_index in range(amount_of_devices):\n",
    "        tic()\n",
    "        current_authentication_gas_cost = 0\n",
    "        for _ in range(max_tries):\n",
    "            agent_address_hex = user_prefunded_accounts[device_index]\n",
    "            misc_information = {\n",
    "                'agent_account_address_hex': agent_address_hex,\n",
    "                'public_key_set': public_key_set,\n",
    "                'public_key_index': user_index\n",
    "            }\n",
    "            tx_receipt = send_authenticate_request(\n",
    "                private_key, \n",
    "                public_key, \n",
    "                agent_address_hex,\n",
    "                user_web3_http_provider,\n",
    "                authentication_contract,\n",
    "                scheme_name,\n",
    "                misc_information\n",
    "            )\n",
    "            return_value['total_gas_cost'] += tx_receipt['gasUsed']\n",
    "            current_authentication_gas_cost += tx_receipt['gasUsed']\n",
    "            if len(tx_receipt['logs'])==0:\n",
    "                print('User {user_index} fail to authenticate '.format(user_index=user_index))\n",
    "                return_value['fail_authentication'] += 1\n",
    "            else:\n",
    "                print('User {user_index} successful to authenticate '.format(user_index=user_index))\n",
    "                return_value['successful_authentication'] += 1\n",
    "                break\n",
    "        current_time_elapsed = toc()\n",
    "        return_value['authentication_logs'].append({\n",
    "            'authentication_gas_cost': current_authentication_gas_cost,\n",
    "            'authentication_time_elapsed': current_time_elapsed,\n",
    "        })\n",
    "        return_value['total_time_elapsed'] += current_time_elapsed\n",
    "    print('User {user_index} authenticate {successful_authentication}/{amount_of_devices} devices using {scheme_name}'.format(**return_value))\n",
    "    return return_value"
   ]
  },
  {
   "cell_type": "code",
   "execution_count": null,
   "id": "31c2dc5a-bd00-44a2-8bd8-b0a4cd775c4c",
   "metadata": {},
   "outputs": [],
   "source": [
    "from eth_abi.exceptions import InsufficientDataBytes\n",
    "from time import sleep\n",
    "\n",
    "def nullifier_nonceauth_user_logic(user_index, private_key, public_key_set, user_prefunded_accounts, amount_of_devices, contract_address, contract_abi, max_tries):\n",
    "    print('User {user_index} attempting to access {amount_of_devices} devices using {user_prefunded_accounts}'.format(\n",
    "        user_index=user_index, \n",
    "        amount_of_devices = amount_of_devices, \n",
    "        user_prefunded_accounts=user_prefunded_accounts))\n",
    "    \n",
    "    scheme_name = 'nullifier_nonceauth'\n",
    "    user_web3_http_provider = Web3(Web3.HTTPProvider(PRODUCTION_HTTP_PROVIDER_URL))\n",
    "    authentication_contract = connect_to_contract(contract_address, contract_abi, user_web3_http_provider)\n",
    "    public_key = public_key_set[user_index]\n",
    "\n",
    "    # We record the following metrics for each user\n",
    "    return_value = {\n",
    "        'scheme_name': scheme_name,\n",
    "        'user_index': user_index,\n",
    "        'amount_of_devices': amount_of_devices,\n",
    "        'max_tries': max_tries,\n",
    "        'successful_authentication': 0,\n",
    "        'fail_authentication': 0,\n",
    "        'total_gas_cost': 0,\n",
    "        'total_time_elapsed': 0,\n",
    "        'authentication_logs': [],\n",
    "    }\n",
    "\n",
    "    tic()\n",
    "    for device_index in range(amount_of_devices):\n",
    "        tic()\n",
    "        current_authentication_gas_cost = 0\n",
    "        for _ in range(max_tries):\n",
    "            agent_address_hex = user_prefunded_accounts[device_index]\n",
    "            current_nonce_hex = random.getrandbits(160).to_bytes(int(160/8),\"big\").hex()\n",
    "            try:\n",
    "                current_nonce_hex = authentication_contract.functions.current_nonce().call().hex()\n",
    "            except Exception as error:\n",
    "                user_web3_http_provider = Web3(Web3.HTTPProvider(PRODUCTION_HTTP_PROVIDER_URL))\n",
    "                print(\"An error occurred:\", type(error).__name__, \"–\", error)\n",
    "                \n",
    "            misc_information = {\n",
    "                'public_key_set': public_key_set,\n",
    "                'public_key_index': user_index,\n",
    "                'nonce_hex': current_nonce_hex\n",
    "            }\n",
    "            tx_receipt = send_authenticate_request(\n",
    "                private_key, \n",
    "                public_key, \n",
    "                agent_address_hex,\n",
    "                user_web3_http_provider,\n",
    "                authentication_contract,\n",
    "                scheme_name,\n",
    "                misc_information\n",
    "            )\n",
    "            return_value['total_gas_cost'] += tx_receipt['gasUsed']\n",
    "            current_authentication_gas_cost += tx_receipt['gasUsed']\n",
    "            if len(tx_receipt['logs'])==0:\n",
    "                print('User {user_index} fail to authenticate '.format(user_index=user_index))\n",
    "                return_value['fail_authentication'] += 1\n",
    "            else:\n",
    "                print('User {user_index} successful to authenticate '.format(user_index=user_index))\n",
    "                return_value['successful_authentication'] += 1\n",
    "                break\n",
    "        current_time_elapsed = toc()\n",
    "        return_value['authentication_logs'].append({\n",
    "            'authentication_gas_cost': current_authentication_gas_cost,\n",
    "            'authentication_time_elapsed': current_time_elapsed,\n",
    "        })\n",
    "        return_value['total_time_elapsed'] += current_time_elapsed\n",
    "    print('User {user_index} authenticate {successful_authentication}/{amount_of_devices} devices using {scheme_name}'.format(**return_value))\n",
    "    return return_value"
   ]
  },
  {
   "cell_type": "code",
   "execution_count": null,
   "id": "480029e3-c316-4c1d-8f0f-19199a83ddf9",
   "metadata": {},
   "outputs": [],
   "source": [
    "def nullifier_randomauth_user_logic(user_index, private_key, public_key_set, user_prefunded_accounts, amount_of_devices, contract_address, contract_abi, max_tries):\n",
    "    print('User {user_index} attempting to access {amount_of_devices} devices using {user_prefunded_accounts}'.format(\n",
    "        user_index=user_index, \n",
    "        amount_of_devices = amount_of_devices, \n",
    "        user_prefunded_accounts=user_prefunded_accounts))\n",
    "    \n",
    "    scheme_name = 'nullifier_randomauth'\n",
    "    user_web3_http_provider = Web3(Web3.HTTPProvider(PRODUCTION_HTTP_PROVIDER_URL))\n",
    "    authentication_contract = connect_to_contract(contract_address, contract_abi, user_web3_http_provider)\n",
    "    public_key = public_key_set[user_index]\n",
    "\n",
    "    # We record the following metrics for each user\n",
    "    return_value = {\n",
    "        'scheme_name': scheme_name,\n",
    "        'user_index': user_index,\n",
    "        'amount_of_devices': amount_of_devices,\n",
    "        'max_tries': max_tries,\n",
    "        'successful_authentication': 0,\n",
    "        'fail_authentication': 0,\n",
    "        'total_gas_cost': 0,\n",
    "        'total_time_elapsed': 0,\n",
    "        'authentication_logs': [],\n",
    "    }\n",
    "\n",
    "    tic()\n",
    "    for device_index in range(amount_of_devices):\n",
    "        tic()\n",
    "        current_authentication_gas_cost = 0\n",
    "        for _ in range(max_tries):\n",
    "            agent_address_hex = user_prefunded_accounts[device_index]\n",
    "            aid_hex = random.getrandbits(160).to_bytes(20, \"big\").hex()\n",
    "            misc_information = {\n",
    "                'public_key_set': public_key_set,\n",
    "                'public_key_index': user_index,\n",
    "                'aid_hex': aid_hex\n",
    "            }\n",
    "            tx_receipt = send_authenticate_request(\n",
    "                private_key, \n",
    "                public_key, \n",
    "                agent_address_hex,\n",
    "                user_web3_http_provider,\n",
    "                authentication_contract,\n",
    "                scheme_name,\n",
    "                misc_information\n",
    "            )\n",
    "            return_value['total_gas_cost'] += tx_receipt['gasUsed']\n",
    "            current_authentication_gas_cost += tx_receipt['gasUsed']\n",
    "            if len(tx_receipt['logs'])==0:\n",
    "                print('User {user_index} fail to authenticate '.format(user_index=user_index))\n",
    "                return_value['fail_authentication'] += 1\n",
    "            else:\n",
    "                print('User {user_index} successful to authenticate '.format(user_index=user_index))\n",
    "                return_value['successful_authentication'] += 1\n",
    "                break\n",
    "        current_time_elapsed = toc()\n",
    "        return_value['authentication_logs'].append({\n",
    "            'authentication_gas_cost': current_authentication_gas_cost,\n",
    "            'authentication_time_elapsed': current_time_elapsed,\n",
    "        })\n",
    "        return_value['total_time_elapsed'] += current_time_elapsed\n",
    "    print('User {user_index} authenticate {successful_authentication}/{amount_of_devices} devices using {scheme_name}'.format(**return_value))\n",
    "    return return_value"
   ]
  },
  {
   "cell_type": "code",
   "execution_count": null,
   "id": "b780a038-302a-4748-8bfe-192637a10eb8",
   "metadata": {},
   "outputs": [],
   "source": [
    "def nullifier_pseudoauth_user_logic(user_index, private_key, public_key_set, user_prefunded_accounts, amount_of_devices, contract_address, contract_abi, max_tries):\n",
    "    print('User {user_index} attempting to access {amount_of_devices} devices using {user_prefunded_accounts}'.format(\n",
    "        user_index=user_index, \n",
    "        amount_of_devices = amount_of_devices, \n",
    "        user_prefunded_accounts=user_prefunded_accounts))\n",
    "    \n",
    "    scheme_name = 'nullifier_pseudoauth'\n",
    "    user_web3_http_provider = Web3(Web3.HTTPProvider(PRODUCTION_HTTP_PROVIDER_URL))\n",
    "    authentication_contract = connect_to_contract(contract_address, contract_abi, user_web3_http_provider)\n",
    "    public_key = public_key_set[user_index]\n",
    "    is_authenticated = False\n",
    "\n",
    "    # We record the following metrics for each user\n",
    "    return_value = {\n",
    "        'scheme_name': scheme_name,\n",
    "        'user_index': user_index,\n",
    "        'amount_of_devices': amount_of_devices,\n",
    "        'max_tries': max_tries,\n",
    "        'successful_authentication': 0,\n",
    "        'fail_authentication': 0,\n",
    "        'total_gas_cost': 0,\n",
    "        'total_time_elapsed': 0,\n",
    "        'authentication_logs': [],\n",
    "    }\n",
    "\n",
    "    tic()\n",
    "    for device_index in range(amount_of_devices):\n",
    "        tic()\n",
    "        current_authentication_gas_cost = 0\n",
    "        for _ in range(max_tries):\n",
    "            agent_address_hex = user_prefunded_accounts[0]\n",
    "            nullifier = hashlib.sha256(private_key+int(1).to_bytes(int(256/8),\"big\")).digest()\n",
    "            misc_information = {\n",
    "                'public_key_set': public_key_set,\n",
    "                'public_key_index': user_index,\n",
    "                'nullifier': nullifier,\n",
    "            }\n",
    "            if is_authenticated:\n",
    "                tx_receipt = user_web3_http_provider.eth.wait_for_transaction_receipt(\n",
    "                    authentication_contract.functions.express_authentication_with_broadcast().transact({\"from\": agent_address_hex}))\n",
    "            else:\n",
    "                tx_receipt = send_authenticate_request(\n",
    "                    private_key, \n",
    "                    public_key, \n",
    "                    agent_address_hex,\n",
    "                    user_web3_http_provider,\n",
    "                    authentication_contract,\n",
    "                    scheme_name,\n",
    "                    misc_information\n",
    "                )\n",
    "            return_value['total_gas_cost'] += tx_receipt['gasUsed']\n",
    "            current_authentication_gas_cost += tx_receipt['gasUsed']\n",
    "            if len(tx_receipt['logs'])==0:\n",
    "                print('User {user_index} fail to authenticate '.format(user_index=user_index))\n",
    "                return_value['fail_authentication'] += 1\n",
    "            else:\n",
    "                print('User {user_index} successful to authenticate '.format(user_index=user_index))\n",
    "                is_authenticated = True\n",
    "                return_value['successful_authentication'] += 1\n",
    "                break\n",
    "        current_time_elapsed = toc()\n",
    "        return_value['authentication_logs'].append({\n",
    "            'authentication_gas_cost': current_authentication_gas_cost,\n",
    "            'authentication_time_elapsed': current_time_elapsed,\n",
    "        })\n",
    "        return_value['total_time_elapsed'] += current_time_elapsed\n",
    "    print('User {user_index} authenticate {successful_authentication}/{amount_of_devices} devices using {scheme_name}'.format(**return_value))\n",
    "    return return_value"
   ]
  },
  {
   "cell_type": "code",
   "execution_count": null,
   "id": "3b96179a-a1c0-4137-8335-c0db845a1233",
   "metadata": {},
   "outputs": [],
   "source": [
    "def nullifier_tokenauth_user_logic(\n",
    "    user_index, \n",
    "    private_key, \n",
    "    public_key_set, \n",
    "    user_prefunded_accounts, \n",
    "    amount_of_devices, \n",
    "    contract_address, \n",
    "    contract_abi, \n",
    "    max_tries, \n",
    "    rho, \n",
    "    cm, \n",
    "    r, \n",
    "    tm_set):\n",
    "    print('User {user_index} attempting to access {amount_of_devices} devices using {user_prefunded_accounts}'.format(\n",
    "        user_index=user_index, \n",
    "        amount_of_devices = amount_of_devices, \n",
    "        user_prefunded_accounts=user_prefunded_accounts))\n",
    "    \n",
    "    scheme_name = 'nullifier_tokenauth'\n",
    "    user_web3_http_provider = Web3(Web3.HTTPProvider(PRODUCTION_HTTP_PROVIDER_URL))\n",
    "    authentication_contract = connect_to_contract(contract_address, contract_abi, user_web3_http_provider)\n",
    "    public_key = public_key_set[user_index]\n",
    "\n",
    "    # We record the following metrics for each user\n",
    "    return_value = {\n",
    "        'scheme_name': scheme_name,\n",
    "        'user_index': user_index,\n",
    "        'amount_of_devices': amount_of_devices,\n",
    "        'max_tries': max_tries,\n",
    "        'successful_authentication': 0,\n",
    "        'fail_authentication': 0,\n",
    "        'total_gas_cost': 0,\n",
    "        'total_time_elapsed': 0,\n",
    "        'authentication_logs': [],\n",
    "    }\n",
    "\n",
    "    tic()\n",
    "    for device_index in range(amount_of_devices):\n",
    "        tic()\n",
    "        current_authentication_gas_cost = 0\n",
    "        for _ in range(max_tries):\n",
    "            agent_address_hex = user_prefunded_accounts[device_index]\n",
    "            \n",
    "            w = random.getrandbits(256).to_bytes(int(256/8),\"big\")\n",
    "            k_prime = hashlib.sha256(private_key+w).digest()\n",
    "            wm = hashlib.sha256(k_prime+int(0).to_bytes(32,\"big\")).digest()\n",
    "\n",
    "            sn = hashlib.sha256(rho+private_key).digest()\n",
    "\n",
    "            misc_information = {\n",
    "                'zerotoken_comm_set': tm_set,\n",
    "                'zerotoken_comm_index': user_index,\n",
    "                'serial_number': sn,\n",
    "                'captoken_comm': cm,\n",
    "                'word_comm': wm,\n",
    "                'token_rho': rho,\n",
    "                'token_r': r,\n",
    "                'token_w': w,\n",
    "            }\n",
    "            tx_receipt = send_authenticate_request(\n",
    "                private_key, \n",
    "                public_key, \n",
    "                agent_address_hex,\n",
    "                user_web3_http_provider,\n",
    "                authentication_contract,\n",
    "                scheme_name,\n",
    "                misc_information\n",
    "            )\n",
    "            return_value['total_gas_cost'] += tx_receipt['gasUsed']\n",
    "            current_authentication_gas_cost += tx_receipt['gasUsed']\n",
    "            if len(tx_receipt['logs'])==0:\n",
    "                print('User {user_index} fail to authenticate '.format(user_index=user_index))\n",
    "                return_value['fail_authentication'] += 1\n",
    "            else:\n",
    "                print('User {user_index} successful to authenticate '.format(user_index=user_index))\n",
    "                return_value['successful_authentication'] += 1\n",
    "                break\n",
    "        current_time_elapsed = toc()\n",
    "        return_value['authentication_logs'].append({\n",
    "            'authentication_gas_cost': current_authentication_gas_cost,\n",
    "            'authentication_time_elapsed': current_time_elapsed,\n",
    "        })\n",
    "        return_value['total_time_elapsed'] += current_time_elapsed\n",
    "    print('User {user_index} authenticate {successful_authentication}/{amount_of_devices} devices using {scheme_name}'.format(**return_value))\n",
    "    return return_value"
   ]
  },
  {
   "cell_type": "code",
   "execution_count": null,
   "id": "5ff2d9ad-4432-48d7-a764-13a78949dc58",
   "metadata": {},
   "outputs": [],
   "source": [
    "def delegatable_npauth_user_logic(user_index, private_key, public_key_set, user_prefunded_accounts, amount_of_devices, contract_address, contract_abi, max_tries):\n",
    "    print('User {user_index} attempting to access {amount_of_devices} devices using {user_prefunded_accounts}'.format(\n",
    "        user_index=user_index, \n",
    "        amount_of_devices = amount_of_devices, \n",
    "        user_prefunded_accounts=user_prefunded_accounts))\n",
    "    scheme_name = 'delegatable_npauth'\n",
    "    user_web3_http_provider = Web3(Web3.HTTPProvider(PRODUCTION_HTTP_PROVIDER_URL))\n",
    "    authentication_contract = connect_to_contract(contract_address, contract_abi, user_web3_http_provider)\n",
    "    public_key = public_key_set[user_index]\n",
    "\n",
    "    # We record the following metrics for each user\n",
    "    return_value = {\n",
    "        'scheme_name': scheme_name,\n",
    "        'user_index': user_index,\n",
    "        'amount_of_devices': amount_of_devices,\n",
    "        'max_tries': max_tries,\n",
    "        'successful_authentication': 0,\n",
    "        'fail_authentication': 0,\n",
    "        'total_gas_cost': 0,\n",
    "        'total_time_elapsed': 0,\n",
    "        'authentication_logs': [],\n",
    "    }\n",
    "\n",
    "    for device_index in range(amount_of_devices):\n",
    "        tic()\n",
    "        current_authentication_gas_cost = 0\n",
    "        for _ in range(max_tries):\n",
    "            agent_address_hex = user_prefunded_accounts[device_index]\n",
    "            misc_information = {\n",
    "                'agent_account_address_hex': agent_address_hex,\n",
    "                'public_key_set': public_key_set,\n",
    "                'public_key_index': user_index\n",
    "            }\n",
    "            tx_receipt = send_authenticate_request(\n",
    "                private_key, \n",
    "                public_key, \n",
    "                agent_address_hex,\n",
    "                user_web3_http_provider,\n",
    "                authentication_contract,\n",
    "                scheme_name,\n",
    "                misc_information\n",
    "            )\n",
    "            return_value['total_gas_cost'] += tx_receipt['gasUsed']\n",
    "            current_authentication_gas_cost += tx_receipt['gasUsed']\n",
    "            if len(tx_receipt['logs'])==0:\n",
    "                print('User {user_index} fail to authenticate '.format(user_index=user_index))\n",
    "                return_value['fail_authentication'] += 1\n",
    "            else:\n",
    "                print('User {user_index} successful to authenticate '.format(user_index=user_index))\n",
    "                return_value['successful_authentication'] += 1\n",
    "                break\n",
    "        current_time_elapsed = toc()\n",
    "        return_value['authentication_logs'].append({\n",
    "            'authentication_gas_cost': current_authentication_gas_cost,\n",
    "            'authentication_time_elapsed': current_time_elapsed,\n",
    "        })\n",
    "        return_value['total_time_elapsed'] += current_time_elapsed\n",
    "\n",
    "    \n",
    "    print('User {user_index} authenticate {successful_authentication}/{amount_of_devices} devices using {scheme_name}'.format(**return_value))\n",
    "    return return_value"
   ]
  },
  {
   "cell_type": "code",
   "execution_count": null,
   "id": "32852978-e77f-401e-b471-03783d725d51",
   "metadata": {},
   "outputs": [],
   "source": [
    "SCHEME_DICTIONARY['npauth']['user_logic_function'] = npauth_user_logic\n",
    "SCHEME_DICTIONARY['hashauth']['user_logic_function'] = hashauth_user_logic\n",
    "SCHEME_DICTIONARY['nullifier_nonceauth']['user_logic_function'] = nullifier_nonceauth_user_logic\n",
    "SCHEME_DICTIONARY['nullifier_randomauth']['user_logic_function'] = nullifier_randomauth_user_logic\n",
    "SCHEME_DICTIONARY['nullifier_pseudoauth']['user_logic_function'] = nullifier_pseudoauth_user_logic\n",
    "SCHEME_DICTIONARY['nullifier_tokenauth']['user_logic_function'] = nullifier_tokenauth_user_logic\n",
    "SCHEME_DICTIONARY['delegatable_npauth']['user_logic_function'] = delegatable_npauth_user_logic"
   ]
  },
  {
   "cell_type": "code",
   "execution_count": null,
   "id": "57c74f19-ba72-4938-897c-44bb1840dc58",
   "metadata": {},
   "outputs": [],
   "source": [
    "def experiment_logic_npauth(amount_of_users, amount_of_devices):\n",
    "    scheme_name = 'npauth'\n",
    "    prefunded_account_per_user = amount_of_devices * 1\n",
    "\n",
    "    # All users generate their private key and send it to the administrator\n",
    "    user_private_key_set, administrator_public_key_set = generate_public_private_key_set()\n",
    "    \n",
    "    # Administrator setup the system\n",
    "    administrator_merkle_tree = calculate_merkle_tree(administrator_public_key_set)\n",
    "    administrator_merkle_root = administrator_merkle_tree[DEPTH][0]\n",
    "\n",
    "    compile_zokrates_script(scheme_name)\n",
    "    generate_proving_verification_key_with_trusted_setup(scheme_name)\n",
    "    generate_verification_contract_from_verification_key(scheme_name)\n",
    "    \n",
    "    administrator_web3_http_provider = Web3(Web3.HTTPProvider(PRODUCTION_HTTP_PROVIDER_URL))\n",
    "    authentication_contract = compile_and_deploy_authentication_contract(\n",
    "        scheme_name, \n",
    "        SCHEME_DICTIONARY[scheme_name]['class_name'], \n",
    "        administrator_web3_http_provider)\n",
    "    authentication_contract_address = authentication_contract.address\n",
    "    authentication_contract_abi = authentication_contract.abi\n",
    "    \n",
    "    update_current_merkle_root_of_the_auth_contract(\n",
    "        authentication_contract, \n",
    "        administrator_merkle_root, \n",
    "        administrator_web3_http_provider)\n",
    "\n",
    "    # Users setup before accessing the system\n",
    "    prefunded_accounts = administrator_web3_http_provider.eth.accounts\n",
    "    assert(len(prefunded_accounts)%prefunded_account_per_user == 0) # Make sure all users get same amount of account\n",
    "    assert(len(prefunded_accounts)/prefunded_account_per_user >= amount_of_users) # Make sure the amount of prefunded accounts is enough\n",
    "    user_prefunded_accounts_list = [prefunded_accounts[x:x+prefunded_account_per_user] for x in range(0, len(prefunded_accounts), prefunded_account_per_user)]\n",
    "    user_max_tries = amount_of_devices # How many times the user should try to authenticate for each devices before giving up\n",
    "\n",
    "    experiment_data = []\n",
    "    \n",
    "    with ProcessPoolExecutor(max_workers=amount_of_users) as thread_pool_exec:\n",
    "        user_future_list = []\n",
    "        for user_index in range(amount_of_users):\n",
    "            user_logic_kwargs = {\n",
    "                'user_index': user_index,\n",
    "                'private_key': user_private_key_set[user_index],\n",
    "                'public_key_set': administrator_public_key_set, # We assumed each user capable to find the public key list\n",
    "                'user_prefunded_accounts': user_prefunded_accounts_list[user_index],\n",
    "                'amount_of_devices': amount_of_devices,\n",
    "                'contract_address': authentication_contract_address,\n",
    "                'contract_abi': authentication_contract_abi,\n",
    "                'max_tries': user_max_tries\n",
    "            }\n",
    "            user_future_list.append(thread_pool_exec.submit(SCHEME_DICTIONARY[scheme_name]['user_logic_function'], **user_logic_kwargs))\n",
    "        for completed_future in as_completed(user_future_list):\n",
    "            result = completed_future.result()\n",
    "            experiment_data.append(result)\n",
    "\n",
    "    return experiment_data"
   ]
  },
  {
   "cell_type": "code",
   "execution_count": null,
   "id": "951d6178-7f34-44cc-a1e8-edca243efecc",
   "metadata": {},
   "outputs": [],
   "source": [
    "def experiment_logic_hashauth(amount_of_users, amount_of_devices):\n",
    "    scheme_name = 'hashauth'\n",
    "    prefunded_account_per_user = amount_of_devices * 1\n",
    "\n",
    "    # All users generate their private key and send it to the administrator\n",
    "    user_private_key_set, administrator_public_key_set = generate_public_private_key_set()\n",
    "    \n",
    "    # Administrator setup the system\n",
    "    administrator_merkle_tree = calculate_merkle_tree(administrator_public_key_set)\n",
    "    administrator_merkle_root = administrator_merkle_tree[DEPTH][0]\n",
    "\n",
    "    compile_zokrates_script(scheme_name)\n",
    "    generate_proving_verification_key_with_trusted_setup(scheme_name)\n",
    "    generate_verification_contract_from_verification_key(scheme_name)\n",
    "    \n",
    "    administrator_web3_http_provider = Web3(Web3.HTTPProvider(PRODUCTION_HTTP_PROVIDER_URL))\n",
    "    authentication_contract = compile_and_deploy_authentication_contract(\n",
    "        scheme_name, \n",
    "        SCHEME_DICTIONARY[scheme_name]['class_name'], \n",
    "        administrator_web3_http_provider)\n",
    "    authentication_contract_address = authentication_contract.address\n",
    "    authentication_contract_abi = authentication_contract.abi\n",
    "    \n",
    "    update_current_merkle_root_of_the_auth_contract(\n",
    "        authentication_contract, \n",
    "        administrator_merkle_root, \n",
    "        administrator_web3_http_provider)\n",
    "\n",
    "    # Users setup before accessing the system\n",
    "    prefunded_accounts = administrator_web3_http_provider.eth.accounts\n",
    "    assert(len(prefunded_accounts)%prefunded_account_per_user == 0) # Make sure all users get same amount of account\n",
    "    assert(len(prefunded_accounts)/prefunded_account_per_user >= amount_of_users) # Make sure the amount of prefunded accounts is enough\n",
    "    user_prefunded_accounts_list = [prefunded_accounts[x:x+prefunded_account_per_user] for x in range(0, len(prefunded_accounts), prefunded_account_per_user)]\n",
    "    user_max_tries = amount_of_devices # How many times the user should try to authenticate for each devices before giving up\n",
    "\n",
    "    experiment_data = []\n",
    "    \n",
    "    with ProcessPoolExecutor(max_workers=amount_of_users) as thread_pool_exec:\n",
    "        user_future_list = []\n",
    "        for user_index in range(amount_of_users):\n",
    "            user_logic_kwargs = {\n",
    "                'user_index': user_index,\n",
    "                'private_key': user_private_key_set[user_index],\n",
    "                'public_key_set': administrator_public_key_set, # We assumed each user capable to find the public key list\n",
    "                'user_prefunded_accounts': user_prefunded_accounts_list[user_index],\n",
    "                'amount_of_devices': amount_of_devices,\n",
    "                'contract_address': authentication_contract_address,\n",
    "                'contract_abi': authentication_contract_abi,\n",
    "                'max_tries': user_max_tries\n",
    "            }\n",
    "            user_future_list.append(thread_pool_exec.submit(SCHEME_DICTIONARY[scheme_name]['user_logic_function'], **user_logic_kwargs))\n",
    "        for completed_future in as_completed(user_future_list):\n",
    "            result = completed_future.result()\n",
    "            experiment_data.append(result)\n",
    "\n",
    "    return experiment_data"
   ]
  },
  {
   "cell_type": "code",
   "execution_count": null,
   "id": "4508b3e8-fae0-4e6f-b947-ff88440852aa",
   "metadata": {},
   "outputs": [],
   "source": [
    "def experiment_logic_nullifier_nonceauth(amount_of_users, amount_of_devices):\n",
    "    scheme_name = 'nullifier_nonceauth'\n",
    "    prefunded_account_per_user = amount_of_devices * 1\n",
    "\n",
    "    # All users generate their private key and send it to the administrator\n",
    "    user_private_key_set, administrator_public_key_set = generate_public_private_key_set()\n",
    "    \n",
    "    # Administrator setup the system\n",
    "    administrator_merkle_tree = calculate_merkle_tree(administrator_public_key_set)\n",
    "    administrator_merkle_root = administrator_merkle_tree[DEPTH][0]\n",
    "\n",
    "    compile_zokrates_script(scheme_name)\n",
    "    generate_proving_verification_key_with_trusted_setup(scheme_name)\n",
    "    generate_verification_contract_from_verification_key(scheme_name)\n",
    "    \n",
    "    administrator_web3_http_provider = Web3(Web3.HTTPProvider(PRODUCTION_HTTP_PROVIDER_URL))\n",
    "    authentication_contract = compile_and_deploy_authentication_contract(\n",
    "        scheme_name, \n",
    "        SCHEME_DICTIONARY[scheme_name]['class_name'], \n",
    "        administrator_web3_http_provider)\n",
    "    authentication_contract_address = authentication_contract.address\n",
    "    authentication_contract_abi = authentication_contract.abi\n",
    "    \n",
    "    update_current_merkle_root_of_the_auth_contract(\n",
    "        authentication_contract, \n",
    "        administrator_merkle_root, \n",
    "        administrator_web3_http_provider)\n",
    "\n",
    "    initial_nonce_bytes = random_integer.to_bytes(20, \"big\")\n",
    "    update_current_nonce_of_the_auth_contract(\n",
    "        authentication_contract, \n",
    "        initial_nonce_bytes, \n",
    "        administrator_web3_http_provider)\n",
    "\n",
    "    # Users setup before accessing the system\n",
    "    prefunded_accounts = administrator_web3_http_provider.eth.accounts\n",
    "    assert(len(prefunded_accounts)%prefunded_account_per_user == 0) # Make sure all users get same amount of account\n",
    "    assert(len(prefunded_accounts)/prefunded_account_per_user >= amount_of_users) # Make sure the amount of prefunded accounts is enough\n",
    "    user_prefunded_accounts_list = [prefunded_accounts[x:x+prefunded_account_per_user] for x in range(0, len(prefunded_accounts), prefunded_account_per_user)]\n",
    "    user_max_tries = amount_of_devices * amount_of_users # How many times the user should try to authenticate for each devices before giving up\n",
    "\n",
    "    experiment_data = []\n",
    "    \n",
    "    with ProcessPoolExecutor(max_workers=amount_of_users) as thread_pool_exec:\n",
    "        user_future_list = []\n",
    "        for user_index in range(amount_of_users):\n",
    "            user_logic_kwargs = {\n",
    "                'user_index': user_index,\n",
    "                'private_key': user_private_key_set[user_index],\n",
    "                'public_key_set': administrator_public_key_set, # We assumed each user capable to find the public key list\n",
    "                'user_prefunded_accounts': user_prefunded_accounts_list[user_index],\n",
    "                'amount_of_devices': amount_of_devices,\n",
    "                'contract_address': authentication_contract_address,\n",
    "                'contract_abi': authentication_contract_abi,\n",
    "                'max_tries': user_max_tries\n",
    "            }\n",
    "            user_future_list.append(thread_pool_exec.submit(SCHEME_DICTIONARY[scheme_name]['user_logic_function'], **user_logic_kwargs))\n",
    "        for completed_future in as_completed(user_future_list):\n",
    "            result = completed_future.result()\n",
    "            experiment_data.append(result)\n",
    "\n",
    "    return experiment_data"
   ]
  },
  {
   "cell_type": "code",
   "execution_count": null,
   "id": "0acd676c-a387-4610-847d-75697e280d68",
   "metadata": {},
   "outputs": [],
   "source": [
    "def experiment_logic_nullifier_randomauth(amount_of_users, amount_of_devices):\n",
    "    scheme_name = 'nullifier_randomauth'\n",
    "    prefunded_account_per_user = amount_of_devices * 1\n",
    "\n",
    "    # All users generate their private key and send it to the administrator\n",
    "    user_private_key_set, administrator_public_key_set = generate_public_private_key_set()\n",
    "    \n",
    "    # Administrator setup the system\n",
    "    administrator_merkle_tree = calculate_merkle_tree(administrator_public_key_set)\n",
    "    administrator_merkle_root = administrator_merkle_tree[DEPTH][0]\n",
    "\n",
    "    compile_zokrates_script(scheme_name)\n",
    "    generate_proving_verification_key_with_trusted_setup(scheme_name)\n",
    "    generate_verification_contract_from_verification_key(scheme_name)\n",
    "    \n",
    "    administrator_web3_http_provider = Web3(Web3.HTTPProvider(PRODUCTION_HTTP_PROVIDER_URL))\n",
    "    authentication_contract = compile_and_deploy_authentication_contract(\n",
    "        scheme_name, \n",
    "        SCHEME_DICTIONARY[scheme_name]['class_name'], \n",
    "        administrator_web3_http_provider)\n",
    "    authentication_contract_address = authentication_contract.address\n",
    "    authentication_contract_abi = authentication_contract.abi\n",
    "    \n",
    "    update_current_merkle_root_of_the_auth_contract(\n",
    "        authentication_contract, \n",
    "        administrator_merkle_root, \n",
    "        administrator_web3_http_provider)\n",
    "\n",
    "    # Users setup before accessing the system\n",
    "    prefunded_accounts = administrator_web3_http_provider.eth.accounts\n",
    "    assert(len(prefunded_accounts)%prefunded_account_per_user == 0) # Make sure all users get same amount of account\n",
    "    assert(len(prefunded_accounts)/prefunded_account_per_user >= amount_of_users) # Make sure the amount of prefunded accounts is enough\n",
    "    user_prefunded_accounts_list = [prefunded_accounts[x:x+prefunded_account_per_user] for x in range(0, len(prefunded_accounts), prefunded_account_per_user)]\n",
    "    user_max_tries = amount_of_devices # How many times the user should try to authenticate for each devices before giving up\n",
    "\n",
    "    experiment_data = []\n",
    "    \n",
    "    with ProcessPoolExecutor(max_workers=amount_of_users) as thread_pool_exec:\n",
    "        user_future_list = []\n",
    "        for user_index in range(amount_of_users):\n",
    "            user_logic_kwargs = {\n",
    "                'user_index': user_index,\n",
    "                'private_key': user_private_key_set[user_index],\n",
    "                'public_key_set': administrator_public_key_set, # We assumed each user capable to find the public key list\n",
    "                'user_prefunded_accounts': user_prefunded_accounts_list[user_index],\n",
    "                'amount_of_devices': amount_of_devices,\n",
    "                'contract_address': authentication_contract_address,\n",
    "                'contract_abi': authentication_contract_abi,\n",
    "                'max_tries': user_max_tries\n",
    "            }\n",
    "            user_future_list.append(thread_pool_exec.submit(SCHEME_DICTIONARY[scheme_name]['user_logic_function'], **user_logic_kwargs))\n",
    "        for completed_future in as_completed(user_future_list):\n",
    "            result = completed_future.result()\n",
    "            experiment_data.append(result)\n",
    "\n",
    "    return experiment_data"
   ]
  },
  {
   "cell_type": "code",
   "execution_count": null,
   "id": "d339301b-621f-4770-99ec-ff5c9741267c",
   "metadata": {},
   "outputs": [],
   "source": [
    "def experiment_logic_nullifier_pseudoauth(amount_of_users, amount_of_devices):\n",
    "    scheme_name = 'nullifier_pseudoauth'\n",
    "    prefunded_account_per_user = 1\n",
    "\n",
    "    # All users generate their private key and send it to the administrator\n",
    "    user_private_key_set, administrator_public_key_set = generate_public_private_key_set()\n",
    "    \n",
    "    # Administrator setup the system\n",
    "    administrator_merkle_tree = calculate_merkle_tree(administrator_public_key_set)\n",
    "    administrator_merkle_root = administrator_merkle_tree[DEPTH][0]\n",
    "\n",
    "    compile_zokrates_script(scheme_name)\n",
    "    generate_proving_verification_key_with_trusted_setup(scheme_name)\n",
    "    generate_verification_contract_from_verification_key(scheme_name)\n",
    "    \n",
    "    administrator_web3_http_provider = Web3(Web3.HTTPProvider(PRODUCTION_HTTP_PROVIDER_URL))\n",
    "    authentication_contract = compile_and_deploy_authentication_contract(\n",
    "        scheme_name, \n",
    "        SCHEME_DICTIONARY[scheme_name]['class_name'], \n",
    "        administrator_web3_http_provider)\n",
    "    authentication_contract_address = authentication_contract.address\n",
    "    authentication_contract_abi = authentication_contract.abi\n",
    "    \n",
    "    update_current_merkle_root_of_the_auth_contract(\n",
    "        authentication_contract, \n",
    "        administrator_merkle_root, \n",
    "        administrator_web3_http_provider)\n",
    "\n",
    "    # Users setup before accessing the system\n",
    "    prefunded_accounts = administrator_web3_http_provider.eth.accounts\n",
    "    assert(len(prefunded_accounts)%prefunded_account_per_user == 0) # Make sure all users get same amount of account\n",
    "    assert(len(prefunded_accounts)/prefunded_account_per_user >= amount_of_users) # Make sure the amount of prefunded accounts is enough\n",
    "    user_prefunded_accounts_list = [prefunded_accounts[x:x+prefunded_account_per_user] for x in range(0, len(prefunded_accounts), prefunded_account_per_user)]\n",
    "    user_max_tries = amount_of_devices # How many times the user should try to authenticate for each devices before giving up\n",
    "\n",
    "    experiment_data = []\n",
    "    \n",
    "    with ProcessPoolExecutor(max_workers=amount_of_users) as thread_pool_exec:\n",
    "        user_future_list = []\n",
    "        for user_index in range(amount_of_users):\n",
    "            user_logic_kwargs = {\n",
    "                'user_index': user_index,\n",
    "                'private_key': user_private_key_set[user_index],\n",
    "                'public_key_set': administrator_public_key_set, # We assumed each user capable to find the public key list\n",
    "                'user_prefunded_accounts': user_prefunded_accounts_list[user_index],\n",
    "                'amount_of_devices': amount_of_devices,\n",
    "                'contract_address': authentication_contract_address,\n",
    "                'contract_abi': authentication_contract_abi,\n",
    "                'max_tries': user_max_tries\n",
    "            }\n",
    "            user_future_list.append(thread_pool_exec.submit(SCHEME_DICTIONARY[scheme_name]['user_logic_function'], **user_logic_kwargs))\n",
    "        for completed_future in as_completed(user_future_list):\n",
    "            result = completed_future.result()\n",
    "            experiment_data.append(result)\n",
    "\n",
    "    return experiment_data"
   ]
  },
  {
   "cell_type": "code",
   "execution_count": null,
   "id": "69916e02-2eaa-430d-a078-573094427796",
   "metadata": {},
   "outputs": [],
   "source": [
    "def experiment_logic_nullifier_tokenauth(amount_of_users, amount_of_devices):\n",
    "    scheme_name = 'nullifier_tokenauth'\n",
    "    prefunded_account_per_user = amount_of_devices * 1\n",
    "\n",
    "    # All users generate their private key and send it to the administrator\n",
    "    user_private_key_set, administrator_public_key_set = generate_public_private_key_set()\n",
    "    \n",
    "    # Administrator setup the system\n",
    "    rho_set = [random.getrandbits(256).to_bytes(int(256/8),\"big\") for x in range(2**DEPTH)]\n",
    "    cm_set = [random.getrandbits(256).to_bytes(int(256/8),\"big\") for x in range(2**DEPTH)]\n",
    "    r_set = [random.getrandbits(256).to_bytes(int(256/8),\"big\") for x in range(2**DEPTH)]\n",
    "    tm_set = []\n",
    "    for leaf in range(2**DEPTH):\n",
    "        intermediate_rho_r = hashlib.sha256(rho_set[leaf]+r_set[leaf]).digest()\n",
    "        k = hashlib.sha256(administrator_public_key_set[leaf]+intermediate_rho_r).digest()\n",
    "        tm = hashlib.sha256(cm_set[leaf]+k).digest()\n",
    "        tm_set.append(tm)\n",
    "    \n",
    "    administrator_merkle_tree = calculate_merkle_tree(tm_set)\n",
    "    administrator_merkle_root = administrator_merkle_tree[DEPTH][0]\n",
    "\n",
    "    compile_zokrates_script(scheme_name)\n",
    "    generate_proving_verification_key_with_trusted_setup(scheme_name)\n",
    "    generate_verification_contract_from_verification_key(scheme_name)\n",
    "    \n",
    "    administrator_web3_http_provider = Web3(Web3.HTTPProvider(PRODUCTION_HTTP_PROVIDER_URL))\n",
    "    authentication_contract = compile_and_deploy_authentication_contract(\n",
    "        scheme_name, \n",
    "        SCHEME_DICTIONARY[scheme_name]['class_name'], \n",
    "        administrator_web3_http_provider)\n",
    "    authentication_contract_address = authentication_contract.address\n",
    "    authentication_contract_abi = authentication_contract.abi\n",
    "    \n",
    "    update_current_merkle_root_of_the_auth_contract(\n",
    "        authentication_contract, \n",
    "        administrator_merkle_root, \n",
    "        administrator_web3_http_provider)\n",
    "\n",
    "    # Users setup before accessing the system\n",
    "    prefunded_accounts = administrator_web3_http_provider.eth.accounts\n",
    "    assert(len(prefunded_accounts)%prefunded_account_per_user == 0) # Make sure all users get same amount of account\n",
    "    assert(len(prefunded_accounts)/prefunded_account_per_user >= amount_of_users) # Make sure the amount of prefunded accounts is enough\n",
    "    user_prefunded_accounts_list = [prefunded_accounts[x:x+prefunded_account_per_user] for x in range(0, len(prefunded_accounts), prefunded_account_per_user)]\n",
    "    user_max_tries = amount_of_devices # How many times the user should try to authenticate for each devices before giving up\n",
    "\n",
    "    experiment_data = []\n",
    "    \n",
    "    with ProcessPoolExecutor(max_workers=amount_of_users) as thread_pool_exec:\n",
    "        user_future_list = []\n",
    "        for user_index in range(amount_of_users):\n",
    "            user_logic_kwargs = {\n",
    "                'user_index': user_index,\n",
    "                'private_key': user_private_key_set[user_index],\n",
    "                'public_key_set': administrator_public_key_set, # We assumed each user capable to find the public key list\n",
    "                'user_prefunded_accounts': user_prefunded_accounts_list[user_index],\n",
    "                'amount_of_devices': amount_of_devices,\n",
    "                'contract_address': authentication_contract_address,\n",
    "                'contract_abi': authentication_contract_abi,\n",
    "                'max_tries': user_max_tries,\n",
    "                'cm': cm_set[user_index],\n",
    "                'rho': rho_set[user_index],\n",
    "                'r': r_set[user_index],\n",
    "                'tm_set': tm_set,\n",
    "            }\n",
    "            user_future_list.append(thread_pool_exec.submit(SCHEME_DICTIONARY[scheme_name]['user_logic_function'], **user_logic_kwargs))\n",
    "        for completed_future in as_completed(user_future_list):\n",
    "            result = completed_future.result()\n",
    "            experiment_data.append(result)\n",
    "\n",
    "    return experiment_data"
   ]
  },
  {
   "cell_type": "code",
   "execution_count": null,
   "id": "f3315d8f-798a-452d-be6d-6c4867ddc30a",
   "metadata": {},
   "outputs": [],
   "source": [
    "def experiment_logic_delegatable_npauth(amount_of_users, amount_of_devices):\n",
    "    scheme_name = 'delegatable_npauth'\n",
    "    prefunded_account_per_user = amount_of_devices * 1\n",
    "\n",
    "    # All users generate their private key and send it to the administrator\n",
    "    user_private_key_set, administrator_public_key_set = generate_public_private_key_set()\n",
    "    \n",
    "    # Administrator setup the system\n",
    "    administrator_merkle_tree = calculate_merkle_tree(administrator_public_key_set)\n",
    "    administrator_merkle_root = administrator_merkle_tree[DEPTH][0]\n",
    "\n",
    "    compile_zokrates_script(scheme_name)\n",
    "    generate_proving_verification_key_with_trusted_setup(scheme_name)\n",
    "    generate_verification_contract_from_verification_key(scheme_name)\n",
    "    \n",
    "    administrator_web3_http_provider = Web3(Web3.HTTPProvider(PRODUCTION_HTTP_PROVIDER_URL))\n",
    "    authentication_contract = compile_and_deploy_authentication_contract(\n",
    "        scheme_name, \n",
    "        SCHEME_DICTIONARY[scheme_name]['class_name'], \n",
    "        administrator_web3_http_provider)\n",
    "    authentication_contract_address = authentication_contract.address\n",
    "    authentication_contract_abi = authentication_contract.abi\n",
    "    \n",
    "    update_current_merkle_root_of_the_auth_contract(\n",
    "        authentication_contract, \n",
    "        administrator_merkle_root, \n",
    "        administrator_web3_http_provider)\n",
    "\n",
    "    # Users setup before accessing the system\n",
    "    prefunded_accounts = administrator_web3_http_provider.eth.accounts\n",
    "    assert(len(prefunded_accounts)%prefunded_account_per_user == 0) # Make sure all users get same amount of account\n",
    "    assert(len(prefunded_accounts)/prefunded_account_per_user >= amount_of_users) # Make sure the amount of prefunded accounts is enough\n",
    "    user_prefunded_accounts_list = [prefunded_accounts[x:x+prefunded_account_per_user] for x in range(0, len(prefunded_accounts), prefunded_account_per_user)]\n",
    "    user_max_tries = amount_of_devices # How many times the user should try to authenticate for each devices before giving up\n",
    "\n",
    "    experiment_data = []\n",
    "    \n",
    "    with ProcessPoolExecutor(max_workers=amount_of_users) as thread_pool_exec:\n",
    "        user_future_list = []\n",
    "        for user_index in range(amount_of_users):\n",
    "            user_logic_kwargs = {\n",
    "                'user_index': user_index,\n",
    "                'private_key': user_private_key_set[user_index],\n",
    "                'public_key_set': administrator_public_key_set, # We assumed each user capable to find the public key list\n",
    "                'user_prefunded_accounts': user_prefunded_accounts_list[user_index],\n",
    "                'amount_of_devices': amount_of_devices,\n",
    "                'contract_address': authentication_contract_address,\n",
    "                'contract_abi': authentication_contract_abi,\n",
    "                'max_tries': user_max_tries\n",
    "            }\n",
    "            user_future_list.append(thread_pool_exec.submit(SCHEME_DICTIONARY[scheme_name]['user_logic_function'], **user_logic_kwargs))\n",
    "        for completed_future in as_completed(user_future_list):\n",
    "            result = completed_future.result()\n",
    "            experiment_data.append(result)\n",
    "\n",
    "    return experiment_data"
   ]
  },
  {
   "cell_type": "code",
   "execution_count": null,
   "id": "2680db35-0496-4fb9-b128-01e4e51f99e7",
   "metadata": {},
   "outputs": [],
   "source": [
    "def run_all_experiment_logic(amount_of_users_parameter, amount_of_devices_parameter, filename_prefix):\n",
    "    unified_experiment = []\n",
    "    unified_experiment += experiment_logic_npauth(amount_of_users_parameter, amount_of_devices_parameter)\n",
    "    # Due to the vulnerability of hashauth, we remove hashauth from our work comparison\n",
    "    # unified_experiment += experiment_logic_hashauth(amount_of_users_parameter, amount_of_devices_parameter)\n",
    "    unified_experiment += experiment_logic_nullifier_nonceauth(amount_of_users_parameter, amount_of_devices_parameter)\n",
    "    unified_experiment += experiment_logic_nullifier_randomauth(amount_of_users_parameter, amount_of_devices_parameter)\n",
    "    unified_experiment += experiment_logic_nullifier_pseudoauth(amount_of_users_parameter, amount_of_devices_parameter)\n",
    "    unified_experiment += experiment_logic_nullifier_tokenauth(amount_of_users_parameter, amount_of_devices_parameter)\n",
    "    unified_experiment += experiment_logic_delegatable_npauth(amount_of_users_parameter, amount_of_devices_parameter)\n",
    "\n",
    "    filename = 'experiment_results/average_gas_cost_and_latency/'+'{filename_prefix}/{filename_prefix}_{amount_of_users}_{amount_of_devices}.json'.format(filename_prefix=filename_prefix,amount_of_users=amount_of_users_parameter, amount_of_devices=amount_of_devices_parameter)\n",
    "    subprocess_run_wrapper('mkdir -p '+ 'experiment_results/average_gas_cost_and_latency/'+'{filename_prefix}/'.format(filename_prefix=filename_prefix))\n",
    "    with open(filename, 'w') as f:\n",
    "        json.dump(unified_experiment, f)"
   ]
  },
  {
   "cell_type": "code",
   "execution_count": null,
   "id": "4ac53122-3fc3-4c99-bb83-7d3cc1784d84",
   "metadata": {},
   "outputs": [],
   "source": [
    "EXPERIMENT_PARAMETER_USER_AMOUNT_LIST = [1,2,4]\n",
    "EXPERIMENT_PARAMETER_DEVICES_AMOUNT_LIST = [1,2,4]\n",
    "\n",
    "# for loop in [2,3,4]:\n",
    "#     for user_amount in EXPERIMENT_PARAMETER_USER_AMOUNT_LIST:\n",
    "#         for device_amount in EXPERIMENT_PARAMETER_DEVICES_AMOUNT_LIST:\n",
    "#             run_all_experiment_logic(user_amount,device_amount,'experiment_results_real_world_{0}'.format(loop))"
   ]
  },
  {
   "cell_type": "code",
   "execution_count": null,
   "id": "a588edfd-da41-4343-b128-71f577b79dcd",
   "metadata": {},
   "outputs": [],
   "source": [
    "import seaborn\n",
    "import matplotlib.pyplot as plt"
   ]
  },
  {
   "cell_type": "code",
   "execution_count": null,
   "id": "e0097acb-8504-4db3-b0da-6a87652b9162",
   "metadata": {},
   "outputs": [],
   "source": [
    "RENAME_COLUMN_DICTIONARY = {\n",
    "    'scheme_name':'Scheme Name',\n",
    "    'total_time_elapsed':'Time Elapsed (units: seconds)',\n",
    "    'total_gas_cost':'Gas Cost Usage (units: Gas Cost)',\n",
    "    'authentication_time_elapsed':'Authentication Time Elapsed (units: seconds)',\n",
    "    'authentication_gas_cost':'Authentication Gas Cost Usage (units: Gas Cost)',\n",
    "    'amount_of_users': 'Amount of Users',\n",
    "    'amount_of_devices': 'Amount of Devices',\n",
    "}\n",
    "RENAME_SCHEME_DICTIONARY = {scheme_name:scheme['display_name'] for (scheme_name,scheme) in SCHEME_DICTIONARY.items()}"
   ]
  },
  {
   "cell_type": "code",
   "execution_count": null,
   "id": "d91f427e-cf19-4485-84ef-aa026b8d4574",
   "metadata": {},
   "outputs": [],
   "source": [
    "def unified_visualization(filename,user_amount_list, device_amount_list, loop_list):\n",
    "    df_list = []\n",
    "    for loop in loop_list:\n",
    "        for user_amount in user_amount_list:\n",
    "            for device_amount in device_amount_list:\n",
    "                df = pd.read_json('experiment_results/average_gas_cost_and_latency/{0}_{3}/{0}_{3}_{1}_{2}.json'.format(filename, user_amount, device_amount, loop))\n",
    "                df['amount_of_users'] = user_amount\n",
    "                df_list.append(df)\n",
    "    df = pd.concat(df_list)\n",
    "    df = df.explode('authentication_logs')\n",
    "    df = pd.concat([df, df.authentication_logs.apply(pd.Series)], axis=1)\n",
    "    df['total_gas_cost'] = df['total_gas_cost']/df['amount_of_devices']\n",
    "    df['total_time_elapsed'] = df['total_time_elapsed']/df['amount_of_devices']\n",
    "    df =  df[df['scheme_name'] != 'delegatable_npauth']\n",
    "    df = df.replace(RENAME_SCHEME_DICTIONARY)\n",
    "    df = df.rename(columns = RENAME_COLUMN_DICTIONARY)\n",
    "    return df"
   ]
  },
  {
   "cell_type": "code",
   "execution_count": null,
   "id": "5b1e724a-67e5-49ac-a726-dd3a68264540",
   "metadata": {},
   "outputs": [],
   "source": [
    "experiment_dataframe = unified_visualization('experiment_results_real_world',[1,2,4],[1,2,4], [1,2])"
   ]
  },
  {
   "cell_type": "code",
   "execution_count": null,
   "id": "b32cba25-6c10-41c4-b58f-5db47c0954ff",
   "metadata": {},
   "outputs": [],
   "source": [
    "def show_pandas_authentication_time_elapsed_results(dataframe, print_latex = False):\n",
    "    df = dataframe\n",
    "    agg_target = {\n",
    "        RENAME_COLUMN_DICTIONARY['authentication_time_elapsed']: ['mean','std','min','max'],\n",
    "    }\n",
    "    df = df.groupby([RENAME_COLUMN_DICTIONARY['scheme_name'],RENAME_COLUMN_DICTIONARY['amount_of_users'],RENAME_COLUMN_DICTIONARY['amount_of_devices']]).agg(agg_target)\n",
    "    df = df\n",
    "    if print_latex:\n",
    "        print(df.style.format(precision=2, thousands=\",\", decimal=\".\").to_latex(hrules=True))\n",
    "        return\n",
    "    return df.style.format(precision=2, thousands=\",\", decimal=\".\")\n",
    "\n",
    "def show_pandas_authentication_gas_cost_results(dataframe, print_latex = False):\n",
    "    df = dataframe\n",
    "    agg_target = {\n",
    "        RENAME_COLUMN_DICTIONARY['authentication_gas_cost']: ['mean','std','min','max'],\n",
    "    }\n",
    "    df = df.groupby([RENAME_COLUMN_DICTIONARY['scheme_name'],RENAME_COLUMN_DICTIONARY['amount_of_users'],RENAME_COLUMN_DICTIONARY['amount_of_devices']]).agg(agg_target)\n",
    "    df = df\n",
    "    if print_latex:\n",
    "        print(df.style.format(precision=2, thousands=\",\", decimal=\".\").to_latex(hrules=True, multirow_align='c'))\n",
    "        return\n",
    "    return df.style.format(precision=2, thousands=\",\", decimal=\".\")"
   ]
  },
  {
   "cell_type": "code",
   "execution_count": null,
   "id": "eac90746-adfe-462d-96d7-272319b02c0e",
   "metadata": {},
   "outputs": [],
   "source": [
    "show_pandas_authentication_time_elapsed_results(experiment_dataframe,True)"
   ]
  },
  {
   "cell_type": "code",
   "execution_count": null,
   "id": "b115d5ab-5362-4542-af51-2c948610d481",
   "metadata": {},
   "outputs": [],
   "source": [
    "show_pandas_authentication_gas_cost_results(experiment_dataframe,True)"
   ]
  },
  {
   "cell_type": "code",
   "execution_count": null,
   "id": "b4b36efd-9ebe-41fb-83e3-805b36d265a2",
   "metadata": {},
   "outputs": [],
   "source": [
    "seaborn.set_theme()"
   ]
  },
  {
   "cell_type": "code",
   "execution_count": null,
   "id": "98e04fb4-2fb7-44f3-a5a0-c308914d6f82",
   "metadata": {},
   "outputs": [],
   "source": [
    "fig = seaborn.catplot(\n",
    "    data=experiment_dataframe,\n",
    "    kind='bar', \n",
    "    x=RENAME_COLUMN_DICTIONARY['amount_of_users'], \n",
    "    y=RENAME_COLUMN_DICTIONARY['authentication_time_elapsed'], \n",
    "    hue=RENAME_COLUMN_DICTIONARY['scheme_name'], \n",
    "    errorbar=\"ci\", \n",
    "    col=RENAME_COLUMN_DICTIONARY['amount_of_devices'],\n",
    "    aspect=0.8\n",
    ")\n",
    "fig.savefig('authentication-expected-time-elapsed.pdf')"
   ]
  },
  {
   "cell_type": "code",
   "execution_count": null,
   "id": "6a26470c-b109-4e7b-beb5-5daef3089afb",
   "metadata": {},
   "outputs": [],
   "source": [
    "fig = seaborn.catplot(\n",
    "    data=experiment_dataframe,\n",
    "    kind='bar', \n",
    "    x=RENAME_COLUMN_DICTIONARY['amount_of_users'], \n",
    "    y=RENAME_COLUMN_DICTIONARY['authentication_gas_cost'], \n",
    "    hue=RENAME_COLUMN_DICTIONARY['scheme_name'], \n",
    "    errorbar=\"ci\", \n",
    "    col=RENAME_COLUMN_DICTIONARY['amount_of_devices'],\n",
    "    aspect=0.8\n",
    ")\n",
    "fig.savefig('authentication-expected-gas-cost.pdf')"
   ]
  },
  {
   "cell_type": "code",
   "execution_count": null,
   "id": "7e6bd73d-d399-4cc6-b68a-8c70c7d338da",
   "metadata": {},
   "outputs": [],
   "source": [
    "def unified_visualization_delegatable_scheme(filename,user_amount_list, device_amount_list, loop_list):\n",
    "    df_list = []\n",
    "    for loop in loop_list:\n",
    "        for user_amount in user_amount_list:\n",
    "            for device_amount in device_amount_list:\n",
    "                df = pd.read_json('experiment_results/average_gas_cost_and_latency/{0}_{3}/{0}_{3}_{1}_{2}.json'.format(filename, user_amount, device_amount, loop))\n",
    "                df['amount_of_users'] = user_amount\n",
    "                df_list.append(df)\n",
    "    df = pd.concat(df_list)\n",
    "    df = df.explode('authentication_logs')\n",
    "    df = pd.concat([df, df.authentication_logs.apply(pd.Series)], axis=1)\n",
    "    df['total_gas_cost'] = df['total_gas_cost']/df['amount_of_devices']\n",
    "    df['total_time_elapsed'] = df['total_time_elapsed']/df['amount_of_devices']\n",
    "    delegatable_npauth =  df[df['scheme_name'] == 'delegatable_npauth']\n",
    "    nullifier_tokenauth =  df[df['scheme_name'] == 'nullifier_tokenauth']\n",
    "    df = pd.concat([delegatable_npauth, nullifier_tokenauth])\n",
    "    df = df.replace(RENAME_SCHEME_DICTIONARY)\n",
    "    df = df.rename(columns = RENAME_COLUMN_DICTIONARY)\n",
    "    return df"
   ]
  },
  {
   "cell_type": "code",
   "execution_count": null,
   "id": "2e5ceffb-8fe7-49a4-b02a-93731f6d5ce3",
   "metadata": {},
   "outputs": [],
   "source": [
    "application_experiment = unified_visualization_delegatable_scheme('experiment_results_real_world',[1,2,4],[1,2,4], [1,2])"
   ]
  },
  {
   "cell_type": "code",
   "execution_count": null,
   "id": "b999f33b-0927-47c0-b0bb-43b4a27c8a70",
   "metadata": {},
   "outputs": [],
   "source": [
    "fig = seaborn.catplot(\n",
    "    data=application_experiment,\n",
    "    kind='bar', \n",
    "    x=RENAME_COLUMN_DICTIONARY['amount_of_users'], \n",
    "    y=RENAME_COLUMN_DICTIONARY['authentication_time_elapsed'], \n",
    "    hue=RENAME_COLUMN_DICTIONARY['scheme_name'], \n",
    "    errorbar=\"ci\", \n",
    "    col=RENAME_COLUMN_DICTIONARY['amount_of_devices'],\n",
    "    aspect=0.7,\n",
    ")\n",
    "fig.savefig('application-authentication-expected-time-elapsed.pdf')"
   ]
  },
  {
   "cell_type": "code",
   "execution_count": null,
   "id": "f6480845-0bd2-48d2-beb9-c070cd638038",
   "metadata": {},
   "outputs": [],
   "source": [
    "fig = seaborn.catplot(\n",
    "    data=application_experiment,kind='bar', \n",
    "    x=RENAME_COLUMN_DICTIONARY['amount_of_users'], \n",
    "    y=RENAME_COLUMN_DICTIONARY['authentication_gas_cost'], \n",
    "    hue=RENAME_COLUMN_DICTIONARY['scheme_name'], \n",
    "    errorbar=\"ci\", \n",
    "    col=RENAME_COLUMN_DICTIONARY['amount_of_devices'],\n",
    "    aspect=0.7\n",
    ")\n",
    "fig.savefig('application-authentication-expected-gas-cost.pdf')"
   ]
  },
  {
   "cell_type": "code",
   "execution_count": null,
   "id": "ee59bf00-6a02-4a06-8a21-43f7bad8f92a",
   "metadata": {},
   "outputs": [],
   "source": []
  },
  {
   "cell_type": "code",
   "execution_count": null,
   "id": "4b04030c-119d-4532-9b05-c6d6bf22f470",
   "metadata": {},
   "outputs": [],
   "source": []
  }
 ],
 "metadata": {
  "kernelspec": {
   "display_name": "Python 3 (ipykernel)",
   "language": "python",
   "name": "python3"
  },
  "language_info": {
   "codemirror_mode": {
    "name": "ipython",
    "version": 3
   },
   "file_extension": ".py",
   "mimetype": "text/x-python",
   "name": "python",
   "nbconvert_exporter": "python",
   "pygments_lexer": "ipython3",
   "version": "3.12.2"
  }
 },
 "nbformat": 4,
 "nbformat_minor": 5
}
